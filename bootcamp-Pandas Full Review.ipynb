{
 "cells": [
  {
   "cell_type": "markdown",
   "id": "17e53139",
   "metadata": {},
   "source": [
    "# CREATING A SERIES"
   ]
  },
  {
   "cell_type": "code",
   "execution_count": 1,
   "id": "b6ccd786",
   "metadata": {},
   "outputs": [
    {
     "name": "stdout",
     "output_type": "stream",
     "text": [
      "0    10\n",
      "1    20\n",
      "2    30\n",
      "3    40\n",
      "4    50\n",
      "dtype: int64\n"
     ]
    }
   ],
   "source": [
    "import pandas as pd\n",
    "my_list = [10, 20, 30, 40, 50]\n",
    "my_series = pd.Series(my_list)\n",
    "print(my_series)"
   ]
  },
  {
   "cell_type": "markdown",
   "id": "3e05ae9b",
   "metadata": {},
   "source": [
    "# SETTING INDEX LABELS\n"
   ]
  },
  {
   "cell_type": "code",
   "execution_count": 2,
   "id": "3af9da84",
   "metadata": {},
   "outputs": [
    {
     "name": "stdout",
     "output_type": "stream",
     "text": [
      "a    10\n",
      "b    20\n",
      "c    30\n",
      "d    40\n",
      "e    50\n",
      "dtype: int64\n"
     ]
    }
   ],
   "source": [
    "my_series = pd.Series(my_list, index=['a', 'b', 'c', 'd', 'e'])\n",
    "print(my_series)"
   ]
  },
  {
   "cell_type": "markdown",
   "id": "2cc3161d",
   "metadata": {},
   "source": [
    "# EXTRACTING COMPONENTS"
   ]
  },
  {
   "cell_type": "code",
   "execution_count": 3,
   "id": "dd7c49ee",
   "metadata": {},
   "outputs": [
    {
     "data": {
      "text/plain": [
       "Index(['a', 'b', 'c', 'd', 'e'], dtype='object')"
      ]
     },
     "execution_count": 3,
     "metadata": {},
     "output_type": "execute_result"
    }
   ],
   "source": [
    "my_series.index"
   ]
  },
  {
   "cell_type": "code",
   "execution_count": 4,
   "id": "ffa66cf3",
   "metadata": {},
   "outputs": [
    {
     "data": {
      "text/plain": [
       "array([10, 20, 30, 40, 50], dtype=int64)"
      ]
     },
     "execution_count": 4,
     "metadata": {},
     "output_type": "execute_result"
    }
   ],
   "source": [
    "my_series.values"
   ]
  },
  {
   "cell_type": "markdown",
   "id": "b2bf92e9",
   "metadata": {},
   "source": [
    "# DICTIONARY TO SERIES"
   ]
  },
  {
   "cell_type": "code",
   "execution_count": 5,
   "id": "c7c18892",
   "metadata": {},
   "outputs": [
    {
     "name": "stdout",
     "output_type": "stream",
     "text": [
      "Amsterdam    821752\n",
      "Rotterdam    623652\n",
      "The Hague    514861\n",
      "Utrecht      345043\n",
      "Eindhoven    223027\n",
      "dtype: int64\n"
     ]
    }
   ],
   "source": [
    "population_dict = {'Amsterdam': 821752, 'Rotterdam': 623652, 'The Hague': 514861, 'Utrecht': 345043, 'Eindhoven': 223027}\n",
    "population = pd.Series(population_dict)\n",
    "print(population)"
   ]
  },
  {
   "cell_type": "code",
   "execution_count": 6,
   "id": "dbe4f1c5",
   "metadata": {},
   "outputs": [
    {
     "data": {
      "text/plain": [
       "Index(['Amsterdam', 'Rotterdam', 'The Hague', 'Utrecht', 'Eindhoven'], dtype='object')"
      ]
     },
     "execution_count": 6,
     "metadata": {},
     "output_type": "execute_result"
    }
   ],
   "source": [
    "population.index"
   ]
  },
  {
   "cell_type": "code",
   "execution_count": 7,
   "id": "c8bec90a",
   "metadata": {},
   "outputs": [
    {
     "data": {
      "text/plain": [
       "array([821752, 623652, 514861, 345043, 223027], dtype=int64)"
      ]
     },
     "execution_count": 7,
     "metadata": {},
     "output_type": "execute_result"
    }
   ],
   "source": [
    "population.values"
   ]
  },
  {
   "cell_type": "markdown",
   "id": "058a10cf",
   "metadata": {},
   "source": [
    "# NAME ATTRIBUTE\n"
   ]
  },
  {
   "cell_type": "code",
   "execution_count": 8,
   "id": "3b13f782",
   "metadata": {},
   "outputs": [
    {
     "data": {
      "text/plain": [
       "Amsterdam    821752\n",
       "Rotterdam    623652\n",
       "The Hague    514861\n",
       "Utrecht      345043\n",
       "Eindhoven    223027\n",
       "dtype: int64"
      ]
     },
     "execution_count": 8,
     "metadata": {},
     "output_type": "execute_result"
    }
   ],
   "source": [
    "population"
   ]
  },
  {
   "cell_type": "code",
   "execution_count": 9,
   "id": "39b90502",
   "metadata": {},
   "outputs": [
    {
     "data": {
      "text/plain": [
       "city\n",
       "Amsterdam    821752\n",
       "Rotterdam    623652\n",
       "The Hague    514861\n",
       "Utrecht      345043\n",
       "Eindhoven    223027\n",
       "Name: Population, dtype: int64"
      ]
     },
     "execution_count": 9,
     "metadata": {},
     "output_type": "execute_result"
    }
   ],
   "source": [
    "population.name = 'Population'\n",
    "population.index.name = 'city'\n",
    "population"
   ]
  },
  {
   "cell_type": "markdown",
   "id": "fad25192",
   "metadata": {},
   "source": [
    "# ACCESSING ELEMENTS"
   ]
  },
  {
   "cell_type": "code",
   "execution_count": 10,
   "id": "672ae59f",
   "metadata": {},
   "outputs": [
    {
     "name": "stdout",
     "output_type": "stream",
     "text": [
      "821752\n",
      "623652\n"
     ]
    }
   ],
   "source": [
    "print(population['Amsterdam'])\n",
    "print(population['Rotterdam'])"
   ]
  },
  {
   "cell_type": "code",
   "execution_count": 11,
   "id": "2435e7c5",
   "metadata": {},
   "outputs": [
    {
     "name": "stdout",
     "output_type": "stream",
     "text": [
      "821752\n",
      "623652\n"
     ]
    }
   ],
   "source": [
    "print(population[0])\n",
    "print(population[1])"
   ]
  },
  {
   "cell_type": "markdown",
   "id": "a3e1681f",
   "metadata": {},
   "source": [
    "# SLICING A SERIES"
   ]
  },
  {
   "cell_type": "code",
   "execution_count": 12,
   "id": "ae26560b",
   "metadata": {},
   "outputs": [
    {
     "data": {
      "text/plain": [
       "city\n",
       "Amsterdam    821752\n",
       "Rotterdam    623652\n",
       "The Hague    514861\n",
       "Utrecht      345043\n",
       "Eindhoven    223027\n",
       "Name: Population, dtype: int64"
      ]
     },
     "execution_count": 12,
     "metadata": {},
     "output_type": "execute_result"
    }
   ],
   "source": [
    "population"
   ]
  },
  {
   "cell_type": "code",
   "execution_count": 13,
   "id": "8708328a",
   "metadata": {},
   "outputs": [
    {
     "name": "stdout",
     "output_type": "stream",
     "text": [
      "city\n",
      "Amsterdam    821752\n",
      "Rotterdam    623652\n",
      "The Hague    514861\n",
      "Utrecht      345043\n",
      "Name: Population, dtype: int64\n"
     ]
    }
   ],
   "source": [
    "print(population['Amsterdam':'Utrecht'])"
   ]
  },
  {
   "cell_type": "code",
   "execution_count": 14,
   "id": "0a7d8c46",
   "metadata": {},
   "outputs": [
    {
     "name": "stdout",
     "output_type": "stream",
     "text": [
      "city\n",
      "Amsterdam    821752\n",
      "Rotterdam    623652\n",
      "Name: Population, dtype: int64\n"
     ]
    }
   ],
   "source": [
    "print(population[0:2])"
   ]
  },
  {
   "cell_type": "markdown",
   "id": "971090d2",
   "metadata": {},
   "source": [
    "# ARITHMETIC OPERATIONS"
   ]
  },
  {
   "cell_type": "code",
   "execution_count": 15,
   "id": "f74575db",
   "metadata": {},
   "outputs": [
    {
     "data": {
      "text/plain": [
       "city\n",
       "Amsterdam    821.752\n",
       "Rotterdam    623.652\n",
       "The Hague    514.861\n",
       "Utrecht      345.043\n",
       "Eindhoven    223.027\n",
       "Name: Population, dtype: float64"
      ]
     },
     "execution_count": 15,
     "metadata": {},
     "output_type": "execute_result"
    }
   ],
   "source": [
    "population/1000"
   ]
  },
  {
   "cell_type": "code",
   "execution_count": 16,
   "id": "9663a8fc",
   "metadata": {},
   "outputs": [
    {
     "name": "stdout",
     "output_type": "stream",
     "text": [
      "a     7.0\n",
      "b     9.0\n",
      "c     NaN\n",
      "d    12.0\n",
      "e    14.0\n",
      "f     NaN\n",
      "dtype: float64\n"
     ]
    }
   ],
   "source": [
    "series1 = pd.Series([1, 2, 3, 4, 5], index=['a', 'b', 'c', 'd', 'e'])\n",
    "series2 = pd.Series([6, 7, 8, 9, 10], index=['a', 'b', 'd', 'e', 'f'])\n",
    "print(series1 + series2)"
   ]
  },
  {
   "cell_type": "markdown",
   "id": "d4898123",
   "metadata": {},
   "source": [
    "# BOOLEAN OPERATIONS"
   ]
  },
  {
   "cell_type": "code",
   "execution_count": 17,
   "id": "8837da4d",
   "metadata": {},
   "outputs": [
    {
     "name": "stdout",
     "output_type": "stream",
     "text": [
      "city\n",
      "Amsterdam     True\n",
      "Rotterdam     True\n",
      "The Hague     True\n",
      "Utrecht      False\n",
      "Eindhoven    False\n",
      "Name: Population, dtype: bool\n"
     ]
    }
   ],
   "source": [
    "print(population > 500000)"
   ]
  },
  {
   "cell_type": "markdown",
   "id": "ad33525e",
   "metadata": {},
   "source": [
    "# FILTERING A SERIES"
   ]
  },
  {
   "cell_type": "markdown",
   "id": "e7a39e8f",
   "metadata": {},
   "source": [
    "using boolean series"
   ]
  },
  {
   "cell_type": "code",
   "execution_count": 18,
   "id": "844b4072",
   "metadata": {},
   "outputs": [
    {
     "name": "stdout",
     "output_type": "stream",
     "text": [
      "city\n",
      "Amsterdam    821752\n",
      "Rotterdam    623652\n",
      "The Hague    514861\n",
      "Name: Population, dtype: int64\n"
     ]
    }
   ],
   "source": [
    "print(population[population > 500000])\n"
   ]
  },
  {
   "cell_type": "markdown",
   "id": "7d19d75a",
   "metadata": {},
   "source": [
    "# SERIES METHODS\n"
   ]
  },
  {
   "cell_type": "code",
   "execution_count": 19,
   "id": "709b525b",
   "metadata": {},
   "outputs": [
    {
     "data": {
      "text/plain": [
       "count         5.000000\n",
       "mean     505667.000000\n",
       "std      234307.573534\n",
       "min      223027.000000\n",
       "25%      345043.000000\n",
       "50%      514861.000000\n",
       "75%      623652.000000\n",
       "max      821752.000000\n",
       "Name: Population, dtype: float64"
      ]
     },
     "execution_count": 19,
     "metadata": {},
     "output_type": "execute_result"
    }
   ],
   "source": [
    "population.describe()"
   ]
  },
  {
   "cell_type": "code",
   "execution_count": 20,
   "id": "c572f9e7",
   "metadata": {},
   "outputs": [],
   "source": [
    "universities = pd.Series(data=[ 'Utrecht University','Leiden University','Utrecht University',\n",
    "'Radboud University Nijmegen','Leiden University','University of Groningen',\n",
    "'Tilburg University'\n",
    "       ])"
   ]
  },
  {
   "cell_type": "code",
   "execution_count": 21,
   "id": "9c2b83ca",
   "metadata": {},
   "outputs": [
    {
     "data": {
      "text/plain": [
       "0             Utrecht University\n",
       "1              Leiden University\n",
       "2             Utrecht University\n",
       "3    Radboud University Nijmegen\n",
       "4              Leiden University\n",
       "5        University of Groningen\n",
       "6             Tilburg University\n",
       "dtype: object"
      ]
     },
     "execution_count": 21,
     "metadata": {},
     "output_type": "execute_result"
    }
   ],
   "source": [
    "universities"
   ]
  },
  {
   "cell_type": "code",
   "execution_count": 22,
   "id": "1cc5f2ab",
   "metadata": {},
   "outputs": [
    {
     "data": {
      "text/plain": [
       "array(['Utrecht University', 'Leiden University',\n",
       "       'Radboud University Nijmegen', 'University of Groningen',\n",
       "       'Tilburg University'], dtype=object)"
      ]
     },
     "execution_count": 22,
     "metadata": {},
     "output_type": "execute_result"
    }
   ],
   "source": [
    "universities.unique()"
   ]
  },
  {
   "cell_type": "code",
   "execution_count": 23,
   "id": "2c7758df",
   "metadata": {},
   "outputs": [
    {
     "data": {
      "text/plain": [
       "5"
      ]
     },
     "execution_count": 23,
     "metadata": {},
     "output_type": "execute_result"
    }
   ],
   "source": [
    "universities.nunique()"
   ]
  },
  {
   "cell_type": "markdown",
   "id": "a036f633",
   "metadata": {},
   "source": [
    "# VALUE COUNTS"
   ]
  },
  {
   "cell_type": "code",
   "execution_count": 24,
   "id": "8a2cceb4",
   "metadata": {},
   "outputs": [],
   "source": [
    "import numpy as np"
   ]
  },
  {
   "cell_type": "code",
   "execution_count": 25,
   "id": "34446d3e",
   "metadata": {},
   "outputs": [],
   "source": [
    "array_universities=np.array(universities)"
   ]
  },
  {
   "cell_type": "code",
   "execution_count": 26,
   "id": "ad648eb4",
   "metadata": {},
   "outputs": [
    {
     "data": {
      "text/plain": [
       "7"
      ]
     },
     "execution_count": 26,
     "metadata": {},
     "output_type": "execute_result"
    }
   ],
   "source": [
    "array_universities.size"
   ]
  },
  {
   "cell_type": "code",
   "execution_count": 27,
   "id": "56962a48",
   "metadata": {},
   "outputs": [
    {
     "data": {
      "text/plain": [
       "(7,)"
      ]
     },
     "execution_count": 27,
     "metadata": {},
     "output_type": "execute_result"
    }
   ],
   "source": [
    "array_universities.shape"
   ]
  },
  {
   "cell_type": "code",
   "execution_count": 28,
   "id": "c7ffa859",
   "metadata": {},
   "outputs": [
    {
     "name": "stdout",
     "output_type": "stream",
     "text": [
      "Utrecht University             2\n",
      "Leiden University              2\n",
      "Radboud University Nijmegen    1\n",
      "University of Groningen        1\n",
      "Tilburg University             1\n",
      "dtype: int64\n"
     ]
    }
   ],
   "source": [
    "print(universities.value_counts())"
   ]
  },
  {
   "cell_type": "markdown",
   "id": "20ae139a",
   "metadata": {},
   "source": [
    "# ASCENDING SORT & DESCENDING SORT\n"
   ]
  },
  {
   "cell_type": "code",
   "execution_count": 29,
   "id": "919a3e89",
   "metadata": {},
   "outputs": [],
   "source": [
    "area = pd.Series({'Rotterdam': 41.4, 'Utrecht': 30.5, 'Amsterdam': 219.3, 'Eindhoven': 30.5, 'The Hague': 31.4})"
   ]
  },
  {
   "cell_type": "code",
   "execution_count": 30,
   "id": "8a4e9bfc",
   "metadata": {},
   "outputs": [
    {
     "data": {
      "text/plain": [
       "Utrecht       30.5\n",
       "Eindhoven     30.5\n",
       "The Hague     31.4\n",
       "Rotterdam     41.4\n",
       "Amsterdam    219.3\n",
       "dtype: float64"
      ]
     },
     "execution_count": 30,
     "metadata": {},
     "output_type": "execute_result"
    }
   ],
   "source": [
    "area.sort_values()"
   ]
  },
  {
   "cell_type": "code",
   "execution_count": 31,
   "id": "b2dc5663",
   "metadata": {},
   "outputs": [
    {
     "data": {
      "text/plain": [
       "Amsterdam    219.3\n",
       "Rotterdam     41.4\n",
       "The Hague     31.4\n",
       "Utrecht       30.5\n",
       "Eindhoven     30.5\n",
       "dtype: float64"
      ]
     },
     "execution_count": 31,
     "metadata": {},
     "output_type": "execute_result"
    }
   ],
   "source": [
    "area.sort_values(ascending=False)"
   ]
  },
  {
   "cell_type": "markdown",
   "id": "aa09adc0",
   "metadata": {},
   "source": [
    "# INPLACE ARGUMENT\n"
   ]
  },
  {
   "cell_type": "code",
   "execution_count": 32,
   "id": "47ce2fcf",
   "metadata": {},
   "outputs": [],
   "source": [
    "area.sort_values(ascending=False, inplace=True)\n"
   ]
  },
  {
   "cell_type": "code",
   "execution_count": 33,
   "id": "205a90a5",
   "metadata": {},
   "outputs": [
    {
     "data": {
      "text/plain": [
       "Amsterdam    219.3\n",
       "Rotterdam     41.4\n",
       "The Hague     31.4\n",
       "Utrecht       30.5\n",
       "Eindhoven     30.5\n",
       "dtype: float64"
      ]
     },
     "execution_count": 33,
     "metadata": {},
     "output_type": "execute_result"
    }
   ],
   "source": [
    "area"
   ]
  },
  {
   "cell_type": "markdown",
   "id": "31afd349",
   "metadata": {},
   "source": [
    "# SORTING BY INDEX"
   ]
  },
  {
   "cell_type": "code",
   "execution_count": 34,
   "id": "a6b63564",
   "metadata": {},
   "outputs": [
    {
     "data": {
      "text/plain": [
       "Amsterdam    219.3\n",
       "Eindhoven     30.5\n",
       "Rotterdam     41.4\n",
       "The Hague     31.4\n",
       "Utrecht       30.5\n",
       "dtype: float64"
      ]
     },
     "execution_count": 34,
     "metadata": {},
     "output_type": "execute_result"
    }
   ],
   "source": [
    "area.sort_index()"
   ]
  },
  {
   "cell_type": "markdown",
   "id": "b6279f82",
   "metadata": {},
   "source": [
    "# NAN VALUES"
   ]
  },
  {
   "cell_type": "code",
   "execution_count": 35,
   "id": "5b7964ab",
   "metadata": {},
   "outputs": [
    {
     "name": "stdout",
     "output_type": "stream",
     "text": [
      "Amsterdam    False\n",
      "Rotterdam    False\n",
      "The Hague    False\n",
      "Utrecht      False\n",
      "Eindhoven    False\n",
      "dtype: bool\n"
     ]
    }
   ],
   "source": [
    "print(area.isnull())\n"
   ]
  },
  {
   "cell_type": "code",
   "execution_count": 36,
   "id": "0b10dd7b",
   "metadata": {},
   "outputs": [
    {
     "name": "stdout",
     "output_type": "stream",
     "text": [
      "0\n"
     ]
    }
   ],
   "source": [
    "print(area.isnull().sum())\n"
   ]
  },
  {
   "cell_type": "markdown",
   "id": "118c52a7",
   "metadata": {},
   "source": [
    "# AGGREGATION\n"
   ]
  },
  {
   "cell_type": "code",
   "execution_count": 37,
   "id": "cc128584",
   "metadata": {},
   "outputs": [
    {
     "data": {
      "text/plain": [
       "Amsterdam    219.3\n",
       "Rotterdam     41.4\n",
       "The Hague     31.4\n",
       "Utrecht       30.5\n",
       "Eindhoven     30.5\n",
       "dtype: float64"
      ]
     },
     "execution_count": 37,
     "metadata": {},
     "output_type": "execute_result"
    }
   ],
   "source": [
    "area"
   ]
  },
  {
   "cell_type": "code",
   "execution_count": 38,
   "id": "4c501641",
   "metadata": {},
   "outputs": [
    {
     "data": {
      "text/plain": [
       "353.09999999999997"
      ]
     },
     "execution_count": 38,
     "metadata": {},
     "output_type": "execute_result"
    }
   ],
   "source": [
    "area.sum()"
   ]
  },
  {
   "cell_type": "code",
   "execution_count": 39,
   "id": "80130338",
   "metadata": {},
   "outputs": [
    {
     "data": {
      "text/plain": [
       "70.61999999999999"
      ]
     },
     "execution_count": 39,
     "metadata": {},
     "output_type": "execute_result"
    }
   ],
   "source": [
    "area.mean()"
   ]
  },
  {
   "cell_type": "code",
   "execution_count": 40,
   "id": "ceb89f31",
   "metadata": {},
   "outputs": [
    {
     "data": {
      "text/plain": [
       "83.24209872414318"
      ]
     },
     "execution_count": 40,
     "metadata": {},
     "output_type": "execute_result"
    }
   ],
   "source": [
    "area.std()"
   ]
  },
  {
   "cell_type": "markdown",
   "id": "c033fff3",
   "metadata": {},
   "source": [
    "# DATAFRAME"
   ]
  },
  {
   "cell_type": "code",
   "execution_count": null,
   "id": "cb9abd1f",
   "metadata": {},
   "outputs": [],
   "source": []
  },
  {
   "cell_type": "code",
   "execution_count": null,
   "id": "d88bfdc5",
   "metadata": {},
   "outputs": [],
   "source": []
  },
  {
   "cell_type": "code",
   "execution_count": null,
   "id": "7626fdb3",
   "metadata": {},
   "outputs": [],
   "source": []
  }
 ],
 "metadata": {
  "kernelspec": {
   "display_name": "Python 3 (ipykernel)",
   "language": "python",
   "name": "python3"
  },
  "language_info": {
   "codemirror_mode": {
    "name": "ipython",
    "version": 3
   },
   "file_extension": ".py",
   "mimetype": "text/x-python",
   "name": "python",
   "nbconvert_exporter": "python",
   "pygments_lexer": "ipython3",
   "version": "3.11.3"
  }
 },
 "nbformat": 4,
 "nbformat_minor": 5
}
