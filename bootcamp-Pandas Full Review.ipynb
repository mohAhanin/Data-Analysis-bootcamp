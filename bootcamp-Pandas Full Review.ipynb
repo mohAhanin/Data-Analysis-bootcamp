{
 "cells": [
  {
   "cell_type": "markdown",
   "id": "17e53139",
   "metadata": {},
   "source": [
    "# CREATING A SERIES"
   ]
  },
  {
   "cell_type": "code",
   "execution_count": 1,
   "id": "b6ccd786",
   "metadata": {},
   "outputs": [
    {
     "name": "stdout",
     "output_type": "stream",
     "text": [
      "0    10\n",
      "1    20\n",
      "2    30\n",
      "3    40\n",
      "4    50\n",
      "dtype: int64\n"
     ]
    }
   ],
   "source": [
    "import pandas as pd\n",
    "my_list = [10, 20, 30, 40, 50]\n",
    "my_series = pd.Series(my_list)\n",
    "print(my_series)"
   ]
  },
  {
   "cell_type": "markdown",
   "id": "3e05ae9b",
   "metadata": {},
   "source": [
    "# SETTING INDEX LABELS\n"
   ]
  },
  {
   "cell_type": "code",
   "execution_count": 2,
   "id": "3af9da84",
   "metadata": {},
   "outputs": [
    {
     "name": "stdout",
     "output_type": "stream",
     "text": [
      "a    10\n",
      "b    20\n",
      "c    30\n",
      "d    40\n",
      "e    50\n",
      "dtype: int64\n"
     ]
    }
   ],
   "source": [
    "my_series = pd.Series(my_list, index=['a', 'b', 'c', 'd', 'e'])\n",
    "print(my_series)"
   ]
  },
  {
   "cell_type": "markdown",
   "id": "2cc3161d",
   "metadata": {},
   "source": [
    "# EXTRACTING COMPONENTS"
   ]
  },
  {
   "cell_type": "code",
   "execution_count": 3,
   "id": "dd7c49ee",
   "metadata": {},
   "outputs": [
    {
     "data": {
      "text/plain": [
       "Index(['a', 'b', 'c', 'd', 'e'], dtype='object')"
      ]
     },
     "execution_count": 3,
     "metadata": {},
     "output_type": "execute_result"
    }
   ],
   "source": [
    "my_series.index"
   ]
  },
  {
   "cell_type": "code",
   "execution_count": 4,
   "id": "ffa66cf3",
   "metadata": {},
   "outputs": [
    {
     "data": {
      "text/plain": [
       "array([10, 20, 30, 40, 50], dtype=int64)"
      ]
     },
     "execution_count": 4,
     "metadata": {},
     "output_type": "execute_result"
    }
   ],
   "source": [
    "my_series.values"
   ]
  },
  {
   "cell_type": "markdown",
   "id": "b2bf92e9",
   "metadata": {},
   "source": [
    "# DICTIONARY TO SERIES"
   ]
  },
  {
   "cell_type": "code",
   "execution_count": 5,
   "id": "c7c18892",
   "metadata": {},
   "outputs": [
    {
     "name": "stdout",
     "output_type": "stream",
     "text": [
      "Amsterdam    821752\n",
      "Rotterdam    623652\n",
      "The Hague    514861\n",
      "Utrecht      345043\n",
      "Eindhoven    223027\n",
      "dtype: int64\n"
     ]
    }
   ],
   "source": [
    "population_dict = {'Amsterdam': 821752, 'Rotterdam': 623652, 'The Hague': 514861, 'Utrecht': 345043, 'Eindhoven': 223027}\n",
    "population = pd.Series(population_dict)\n",
    "print(population)"
   ]
  },
  {
   "cell_type": "code",
   "execution_count": 6,
   "id": "dbe4f1c5",
   "metadata": {},
   "outputs": [
    {
     "data": {
      "text/plain": [
       "Index(['Amsterdam', 'Rotterdam', 'The Hague', 'Utrecht', 'Eindhoven'], dtype='object')"
      ]
     },
     "execution_count": 6,
     "metadata": {},
     "output_type": "execute_result"
    }
   ],
   "source": [
    "population.index"
   ]
  },
  {
   "cell_type": "code",
   "execution_count": 7,
   "id": "c8bec90a",
   "metadata": {},
   "outputs": [
    {
     "data": {
      "text/plain": [
       "array([821752, 623652, 514861, 345043, 223027], dtype=int64)"
      ]
     },
     "execution_count": 7,
     "metadata": {},
     "output_type": "execute_result"
    }
   ],
   "source": [
    "population.values"
   ]
  },
  {
   "cell_type": "markdown",
   "id": "058a10cf",
   "metadata": {},
   "source": [
    "# NAME ATTRIBUTE\n"
   ]
  },
  {
   "cell_type": "code",
   "execution_count": 8,
   "id": "3b13f782",
   "metadata": {},
   "outputs": [
    {
     "data": {
      "text/plain": [
       "Amsterdam    821752\n",
       "Rotterdam    623652\n",
       "The Hague    514861\n",
       "Utrecht      345043\n",
       "Eindhoven    223027\n",
       "dtype: int64"
      ]
     },
     "execution_count": 8,
     "metadata": {},
     "output_type": "execute_result"
    }
   ],
   "source": [
    "population"
   ]
  },
  {
   "cell_type": "code",
   "execution_count": 9,
   "id": "39b90502",
   "metadata": {},
   "outputs": [
    {
     "data": {
      "text/plain": [
       "city\n",
       "Amsterdam    821752\n",
       "Rotterdam    623652\n",
       "The Hague    514861\n",
       "Utrecht      345043\n",
       "Eindhoven    223027\n",
       "Name: Population, dtype: int64"
      ]
     },
     "execution_count": 9,
     "metadata": {},
     "output_type": "execute_result"
    }
   ],
   "source": [
    "population.name = 'Population'\n",
    "population.index.name = 'city'\n",
    "population"
   ]
  },
  {
   "cell_type": "markdown",
   "id": "fad25192",
   "metadata": {},
   "source": [
    "# ACCESSING ELEMENTS"
   ]
  },
  {
   "cell_type": "code",
   "execution_count": 10,
   "id": "672ae59f",
   "metadata": {},
   "outputs": [
    {
     "name": "stdout",
     "output_type": "stream",
     "text": [
      "821752\n",
      "623652\n"
     ]
    }
   ],
   "source": [
    "print(population['Amsterdam'])\n",
    "print(population['Rotterdam'])"
   ]
  },
  {
   "cell_type": "code",
   "execution_count": 11,
   "id": "2435e7c5",
   "metadata": {},
   "outputs": [
    {
     "name": "stdout",
     "output_type": "stream",
     "text": [
      "821752\n",
      "623652\n"
     ]
    }
   ],
   "source": [
    "print(population[0])\n",
    "print(population[1])"
   ]
  },
  {
   "cell_type": "markdown",
   "id": "a3e1681f",
   "metadata": {},
   "source": [
    "# SLICING A SERIES"
   ]
  },
  {
   "cell_type": "code",
   "execution_count": 12,
   "id": "ae26560b",
   "metadata": {},
   "outputs": [
    {
     "data": {
      "text/plain": [
       "city\n",
       "Amsterdam    821752\n",
       "Rotterdam    623652\n",
       "The Hague    514861\n",
       "Utrecht      345043\n",
       "Eindhoven    223027\n",
       "Name: Population, dtype: int64"
      ]
     },
     "execution_count": 12,
     "metadata": {},
     "output_type": "execute_result"
    }
   ],
   "source": [
    "population"
   ]
  },
  {
   "cell_type": "code",
   "execution_count": 13,
   "id": "8708328a",
   "metadata": {},
   "outputs": [
    {
     "name": "stdout",
     "output_type": "stream",
     "text": [
      "city\n",
      "Amsterdam    821752\n",
      "Rotterdam    623652\n",
      "The Hague    514861\n",
      "Utrecht      345043\n",
      "Name: Population, dtype: int64\n"
     ]
    }
   ],
   "source": [
    "print(population['Amsterdam':'Utrecht'])"
   ]
  },
  {
   "cell_type": "code",
   "execution_count": 14,
   "id": "0a7d8c46",
   "metadata": {},
   "outputs": [
    {
     "name": "stdout",
     "output_type": "stream",
     "text": [
      "city\n",
      "Amsterdam    821752\n",
      "Rotterdam    623652\n",
      "Name: Population, dtype: int64\n"
     ]
    }
   ],
   "source": [
    "print(population[0:2])"
   ]
  },
  {
   "cell_type": "markdown",
   "id": "971090d2",
   "metadata": {},
   "source": [
    "# ARITHMETIC OPERATIONS"
   ]
  },
  {
   "cell_type": "code",
   "execution_count": 15,
   "id": "f74575db",
   "metadata": {},
   "outputs": [
    {
     "data": {
      "text/plain": [
       "city\n",
       "Amsterdam    821.752\n",
       "Rotterdam    623.652\n",
       "The Hague    514.861\n",
       "Utrecht      345.043\n",
       "Eindhoven    223.027\n",
       "Name: Population, dtype: float64"
      ]
     },
     "execution_count": 15,
     "metadata": {},
     "output_type": "execute_result"
    }
   ],
   "source": [
    "population/1000"
   ]
  },
  {
   "cell_type": "code",
   "execution_count": 16,
   "id": "9663a8fc",
   "metadata": {},
   "outputs": [
    {
     "name": "stdout",
     "output_type": "stream",
     "text": [
      "a     7.0\n",
      "b     9.0\n",
      "c     NaN\n",
      "d    12.0\n",
      "e    14.0\n",
      "f     NaN\n",
      "dtype: float64\n"
     ]
    }
   ],
   "source": [
    "series1 = pd.Series([1, 2, 3, 4, 5], index=['a', 'b', 'c', 'd', 'e'])\n",
    "series2 = pd.Series([6, 7, 8, 9, 10], index=['a', 'b', 'd', 'e', 'f'])\n",
    "print(series1 + series2)"
   ]
  },
  {
   "cell_type": "markdown",
   "id": "d4898123",
   "metadata": {},
   "source": [
    "# BOOLEAN OPERATIONS"
   ]
  },
  {
   "cell_type": "code",
   "execution_count": 17,
   "id": "8837da4d",
   "metadata": {},
   "outputs": [
    {
     "name": "stdout",
     "output_type": "stream",
     "text": [
      "city\n",
      "Amsterdam     True\n",
      "Rotterdam     True\n",
      "The Hague     True\n",
      "Utrecht      False\n",
      "Eindhoven    False\n",
      "Name: Population, dtype: bool\n"
     ]
    }
   ],
   "source": [
    "print(population > 500000)"
   ]
  },
  {
   "cell_type": "markdown",
   "id": "ad33525e",
   "metadata": {},
   "source": [
    "# FILTERING A SERIES"
   ]
  },
  {
   "cell_type": "markdown",
   "id": "e7a39e8f",
   "metadata": {},
   "source": [
    "using boolean series"
   ]
  },
  {
   "cell_type": "code",
   "execution_count": 18,
   "id": "844b4072",
   "metadata": {},
   "outputs": [
    {
     "name": "stdout",
     "output_type": "stream",
     "text": [
      "city\n",
      "Amsterdam    821752\n",
      "Rotterdam    623652\n",
      "The Hague    514861\n",
      "Name: Population, dtype: int64\n"
     ]
    }
   ],
   "source": [
    "print(population[population > 500000])\n"
   ]
  },
  {
   "cell_type": "markdown",
   "id": "7d19d75a",
   "metadata": {},
   "source": [
    "# SERIES METHODS\n"
   ]
  },
  {
   "cell_type": "code",
   "execution_count": 19,
   "id": "709b525b",
   "metadata": {},
   "outputs": [
    {
     "data": {
      "text/plain": [
       "count         5.000000\n",
       "mean     505667.000000\n",
       "std      234307.573534\n",
       "min      223027.000000\n",
       "25%      345043.000000\n",
       "50%      514861.000000\n",
       "75%      623652.000000\n",
       "max      821752.000000\n",
       "Name: Population, dtype: float64"
      ]
     },
     "execution_count": 19,
     "metadata": {},
     "output_type": "execute_result"
    }
   ],
   "source": [
    "population.describe()"
   ]
  },
  {
   "cell_type": "code",
   "execution_count": 20,
   "id": "c572f9e7",
   "metadata": {},
   "outputs": [],
   "source": [
    "universities = pd.Series(data=[ 'Utrecht University','Leiden University','Utrecht University',\n",
    "'Radboud University Nijmegen','Leiden University','University of Groningen',\n",
    "'Tilburg University'\n",
    "       ])"
   ]
  },
  {
   "cell_type": "code",
   "execution_count": 21,
   "id": "9c2b83ca",
   "metadata": {},
   "outputs": [
    {
     "data": {
      "text/plain": [
       "0             Utrecht University\n",
       "1              Leiden University\n",
       "2             Utrecht University\n",
       "3    Radboud University Nijmegen\n",
       "4              Leiden University\n",
       "5        University of Groningen\n",
       "6             Tilburg University\n",
       "dtype: object"
      ]
     },
     "execution_count": 21,
     "metadata": {},
     "output_type": "execute_result"
    }
   ],
   "source": [
    "universities"
   ]
  },
  {
   "cell_type": "code",
   "execution_count": 22,
   "id": "1cc5f2ab",
   "metadata": {},
   "outputs": [
    {
     "data": {
      "text/plain": [
       "array(['Utrecht University', 'Leiden University',\n",
       "       'Radboud University Nijmegen', 'University of Groningen',\n",
       "       'Tilburg University'], dtype=object)"
      ]
     },
     "execution_count": 22,
     "metadata": {},
     "output_type": "execute_result"
    }
   ],
   "source": [
    "universities.unique()"
   ]
  },
  {
   "cell_type": "code",
   "execution_count": 23,
   "id": "2c7758df",
   "metadata": {},
   "outputs": [
    {
     "data": {
      "text/plain": [
       "5"
      ]
     },
     "execution_count": 23,
     "metadata": {},
     "output_type": "execute_result"
    }
   ],
   "source": [
    "universities.nunique()"
   ]
  },
  {
   "cell_type": "markdown",
   "id": "a036f633",
   "metadata": {},
   "source": [
    "# VALUE COUNTS"
   ]
  },
  {
   "cell_type": "code",
   "execution_count": 24,
   "id": "8a2cceb4",
   "metadata": {},
   "outputs": [],
   "source": [
    "import numpy as np"
   ]
  },
  {
   "cell_type": "code",
   "execution_count": 25,
   "id": "34446d3e",
   "metadata": {},
   "outputs": [],
   "source": [
    "array_universities=np.array(universities)"
   ]
  },
  {
   "cell_type": "code",
   "execution_count": 26,
   "id": "ad648eb4",
   "metadata": {},
   "outputs": [
    {
     "data": {
      "text/plain": [
       "7"
      ]
     },
     "execution_count": 26,
     "metadata": {},
     "output_type": "execute_result"
    }
   ],
   "source": [
    "array_universities.size"
   ]
  },
  {
   "cell_type": "code",
   "execution_count": 27,
   "id": "56962a48",
   "metadata": {},
   "outputs": [
    {
     "data": {
      "text/plain": [
       "(7,)"
      ]
     },
     "execution_count": 27,
     "metadata": {},
     "output_type": "execute_result"
    }
   ],
   "source": [
    "array_universities.shape"
   ]
  },
  {
   "cell_type": "code",
   "execution_count": 28,
   "id": "c7ffa859",
   "metadata": {},
   "outputs": [
    {
     "name": "stdout",
     "output_type": "stream",
     "text": [
      "Utrecht University             2\n",
      "Leiden University              2\n",
      "Radboud University Nijmegen    1\n",
      "University of Groningen        1\n",
      "Tilburg University             1\n",
      "dtype: int64\n"
     ]
    }
   ],
   "source": [
    "print(universities.value_counts())"
   ]
  },
  {
   "cell_type": "markdown",
   "id": "20ae139a",
   "metadata": {},
   "source": [
    "# ASCENDING SORT & DESCENDING SORT\n"
   ]
  },
  {
   "cell_type": "code",
   "execution_count": 29,
   "id": "919a3e89",
   "metadata": {},
   "outputs": [],
   "source": [
    "area = pd.Series({'Rotterdam': 41.4, 'Utrecht': 30.5, 'Amsterdam': 219.3, 'Eindhoven': 30.5, 'The Hague': 31.4})"
   ]
  },
  {
   "cell_type": "code",
   "execution_count": 30,
   "id": "8a4e9bfc",
   "metadata": {},
   "outputs": [
    {
     "data": {
      "text/plain": [
       "Utrecht       30.5\n",
       "Eindhoven     30.5\n",
       "The Hague     31.4\n",
       "Rotterdam     41.4\n",
       "Amsterdam    219.3\n",
       "dtype: float64"
      ]
     },
     "execution_count": 30,
     "metadata": {},
     "output_type": "execute_result"
    }
   ],
   "source": [
    "area.sort_values()"
   ]
  },
  {
   "cell_type": "code",
   "execution_count": 31,
   "id": "b2dc5663",
   "metadata": {},
   "outputs": [
    {
     "data": {
      "text/plain": [
       "Amsterdam    219.3\n",
       "Rotterdam     41.4\n",
       "The Hague     31.4\n",
       "Utrecht       30.5\n",
       "Eindhoven     30.5\n",
       "dtype: float64"
      ]
     },
     "execution_count": 31,
     "metadata": {},
     "output_type": "execute_result"
    }
   ],
   "source": [
    "area.sort_values(ascending=False)"
   ]
  },
  {
   "cell_type": "markdown",
   "id": "aa09adc0",
   "metadata": {},
   "source": [
    "# INPLACE ARGUMENT\n"
   ]
  },
  {
   "cell_type": "code",
   "execution_count": 32,
   "id": "47ce2fcf",
   "metadata": {},
   "outputs": [],
   "source": [
    "area.sort_values(ascending=False, inplace=True)\n"
   ]
  },
  {
   "cell_type": "code",
   "execution_count": 33,
   "id": "205a90a5",
   "metadata": {},
   "outputs": [
    {
     "data": {
      "text/plain": [
       "Amsterdam    219.3\n",
       "Rotterdam     41.4\n",
       "The Hague     31.4\n",
       "Utrecht       30.5\n",
       "Eindhoven     30.5\n",
       "dtype: float64"
      ]
     },
     "execution_count": 33,
     "metadata": {},
     "output_type": "execute_result"
    }
   ],
   "source": [
    "area"
   ]
  },
  {
   "cell_type": "markdown",
   "id": "31afd349",
   "metadata": {},
   "source": [
    "# SORTING BY INDEX"
   ]
  },
  {
   "cell_type": "code",
   "execution_count": 34,
   "id": "a6b63564",
   "metadata": {},
   "outputs": [
    {
     "data": {
      "text/plain": [
       "Amsterdam    219.3\n",
       "Eindhoven     30.5\n",
       "Rotterdam     41.4\n",
       "The Hague     31.4\n",
       "Utrecht       30.5\n",
       "dtype: float64"
      ]
     },
     "execution_count": 34,
     "metadata": {},
     "output_type": "execute_result"
    }
   ],
   "source": [
    "area.sort_index()"
   ]
  },
  {
   "cell_type": "markdown",
   "id": "b6279f82",
   "metadata": {},
   "source": [
    "# NAN VALUES"
   ]
  },
  {
   "cell_type": "code",
   "execution_count": 35,
   "id": "5b7964ab",
   "metadata": {},
   "outputs": [
    {
     "name": "stdout",
     "output_type": "stream",
     "text": [
      "Amsterdam    False\n",
      "Rotterdam    False\n",
      "The Hague    False\n",
      "Utrecht      False\n",
      "Eindhoven    False\n",
      "dtype: bool\n"
     ]
    }
   ],
   "source": [
    "print(area.isnull())\n"
   ]
  },
  {
   "cell_type": "code",
   "execution_count": 36,
   "id": "0b10dd7b",
   "metadata": {},
   "outputs": [
    {
     "name": "stdout",
     "output_type": "stream",
     "text": [
      "0\n"
     ]
    }
   ],
   "source": [
    "print(area.isnull().sum())\n"
   ]
  },
  {
   "cell_type": "markdown",
   "id": "118c52a7",
   "metadata": {},
   "source": [
    "# AGGREGATION\n"
   ]
  },
  {
   "cell_type": "code",
   "execution_count": 37,
   "id": "cc128584",
   "metadata": {},
   "outputs": [
    {
     "data": {
      "text/plain": [
       "Amsterdam    219.3\n",
       "Rotterdam     41.4\n",
       "The Hague     31.4\n",
       "Utrecht       30.5\n",
       "Eindhoven     30.5\n",
       "dtype: float64"
      ]
     },
     "execution_count": 37,
     "metadata": {},
     "output_type": "execute_result"
    }
   ],
   "source": [
    "area"
   ]
  },
  {
   "cell_type": "code",
   "execution_count": 38,
   "id": "4c501641",
   "metadata": {},
   "outputs": [
    {
     "data": {
      "text/plain": [
       "353.09999999999997"
      ]
     },
     "execution_count": 38,
     "metadata": {},
     "output_type": "execute_result"
    }
   ],
   "source": [
    "area.sum()"
   ]
  },
  {
   "cell_type": "code",
   "execution_count": 39,
   "id": "80130338",
   "metadata": {},
   "outputs": [
    {
     "data": {
      "text/plain": [
       "70.61999999999999"
      ]
     },
     "execution_count": 39,
     "metadata": {},
     "output_type": "execute_result"
    }
   ],
   "source": [
    "area.mean()"
   ]
  },
  {
   "cell_type": "code",
   "execution_count": 40,
   "id": "ceb89f31",
   "metadata": {},
   "outputs": [
    {
     "data": {
      "text/plain": [
       "83.24209872414318"
      ]
     },
     "execution_count": 40,
     "metadata": {},
     "output_type": "execute_result"
    }
   ],
   "source": [
    "area.std()"
   ]
  },
  {
   "cell_type": "markdown",
   "id": "c033fff3",
   "metadata": {},
   "source": [
    "# DATAFRAME"
   ]
  },
  {
   "cell_type": "code",
   "execution_count": 41,
   "id": "cb9abd1f",
   "metadata": {},
   "outputs": [],
   "source": [
    "data = {'Name': ['Valheim', 'Among Us', 'Minecraft', 'Fortnite', 'Genshin Impact'],\n",
    "        'Year': [2021, 2018, 2011, 2017, 2020],\n",
    "        'Genre': ['Survival', 'Social Deduction', 'Sandbox', 'Battle Royale', 'Action RPG'],\n",
    "        'Developer': ['Iron Gate Studio', 'InnerSloth', 'Mojang', 'Epic Games', 'miHoYo'],\n",
    "        'Price': [19.99, 4.99, 26.95, 0.00, 0.00]}"
   ]
  },
  {
   "cell_type": "code",
   "execution_count": 42,
   "id": "d88bfdc5",
   "metadata": {},
   "outputs": [],
   "source": [
    "df = pd.DataFrame(data)"
   ]
  },
  {
   "cell_type": "code",
   "execution_count": 43,
   "id": "7626fdb3",
   "metadata": {},
   "outputs": [
    {
     "data": {
      "text/html": [
       "<div>\n",
       "<style scoped>\n",
       "    .dataframe tbody tr th:only-of-type {\n",
       "        vertical-align: middle;\n",
       "    }\n",
       "\n",
       "    .dataframe tbody tr th {\n",
       "        vertical-align: top;\n",
       "    }\n",
       "\n",
       "    .dataframe thead th {\n",
       "        text-align: right;\n",
       "    }\n",
       "</style>\n",
       "<table border=\"1\" class=\"dataframe\">\n",
       "  <thead>\n",
       "    <tr style=\"text-align: right;\">\n",
       "      <th></th>\n",
       "      <th>Name</th>\n",
       "      <th>Year</th>\n",
       "      <th>Genre</th>\n",
       "      <th>Developer</th>\n",
       "      <th>Price</th>\n",
       "    </tr>\n",
       "  </thead>\n",
       "  <tbody>\n",
       "    <tr>\n",
       "      <th>0</th>\n",
       "      <td>Valheim</td>\n",
       "      <td>2021</td>\n",
       "      <td>Survival</td>\n",
       "      <td>Iron Gate Studio</td>\n",
       "      <td>19.99</td>\n",
       "    </tr>\n",
       "    <tr>\n",
       "      <th>1</th>\n",
       "      <td>Among Us</td>\n",
       "      <td>2018</td>\n",
       "      <td>Social Deduction</td>\n",
       "      <td>InnerSloth</td>\n",
       "      <td>4.99</td>\n",
       "    </tr>\n",
       "    <tr>\n",
       "      <th>2</th>\n",
       "      <td>Minecraft</td>\n",
       "      <td>2011</td>\n",
       "      <td>Sandbox</td>\n",
       "      <td>Mojang</td>\n",
       "      <td>26.95</td>\n",
       "    </tr>\n",
       "    <tr>\n",
       "      <th>3</th>\n",
       "      <td>Fortnite</td>\n",
       "      <td>2017</td>\n",
       "      <td>Battle Royale</td>\n",
       "      <td>Epic Games</td>\n",
       "      <td>0.00</td>\n",
       "    </tr>\n",
       "    <tr>\n",
       "      <th>4</th>\n",
       "      <td>Genshin Impact</td>\n",
       "      <td>2020</td>\n",
       "      <td>Action RPG</td>\n",
       "      <td>miHoYo</td>\n",
       "      <td>0.00</td>\n",
       "    </tr>\n",
       "  </tbody>\n",
       "</table>\n",
       "</div>"
      ],
      "text/plain": [
       "             Name  Year             Genre         Developer  Price\n",
       "0         Valheim  2021          Survival  Iron Gate Studio  19.99\n",
       "1        Among Us  2018  Social Deduction        InnerSloth   4.99\n",
       "2       Minecraft  2011           Sandbox            Mojang  26.95\n",
       "3        Fortnite  2017     Battle Royale        Epic Games   0.00\n",
       "4  Genshin Impact  2020        Action RPG            miHoYo   0.00"
      ]
     },
     "execution_count": 43,
     "metadata": {},
     "output_type": "execute_result"
    }
   ],
   "source": [
    "df"
   ]
  },
  {
   "cell_type": "code",
   "execution_count": 44,
   "id": "f8829923",
   "metadata": {},
   "outputs": [],
   "source": [
    "data = [{'Name': 'Valheim', 'Year': 2021, 'Genre': 'Survival', 'Developer': 'Iron Gate Studio', 'Price': 19.99},\n",
    "        {'Name': 'Among Us', 'Year': 2018, 'Genre': 'Social Deduction', 'Developer': 'InnerSloth', 'Price': 4.99},\n",
    "        {'Name': 'Minecraft', 'Year': 2011, 'Genre': 'Sandbox', 'Developer': 'Mojang', 'Price': 26.95},\n",
    "        {'Name': 'Fortnite', 'Year': 2017, 'Genre': 'Battle Royale', 'Developer': 'Epic Games', 'Price': 0.00},\n",
    "        {'Name': 'Genshin Impact', 'Year': 2020, 'Genre': 'Action RPG', 'Developer': 'miHoYo', 'Price': 0.00}]\n"
   ]
  },
  {
   "cell_type": "code",
   "execution_count": 45,
   "id": "70395277",
   "metadata": {},
   "outputs": [
    {
     "data": {
      "text/html": [
       "<div>\n",
       "<style scoped>\n",
       "    .dataframe tbody tr th:only-of-type {\n",
       "        vertical-align: middle;\n",
       "    }\n",
       "\n",
       "    .dataframe tbody tr th {\n",
       "        vertical-align: top;\n",
       "    }\n",
       "\n",
       "    .dataframe thead th {\n",
       "        text-align: right;\n",
       "    }\n",
       "</style>\n",
       "<table border=\"1\" class=\"dataframe\">\n",
       "  <thead>\n",
       "    <tr style=\"text-align: right;\">\n",
       "      <th></th>\n",
       "      <th>Name</th>\n",
       "      <th>Year</th>\n",
       "      <th>Genre</th>\n",
       "      <th>Developer</th>\n",
       "      <th>Price</th>\n",
       "    </tr>\n",
       "  </thead>\n",
       "  <tbody>\n",
       "    <tr>\n",
       "      <th>0</th>\n",
       "      <td>Valheim</td>\n",
       "      <td>2021</td>\n",
       "      <td>Survival</td>\n",
       "      <td>Iron Gate Studio</td>\n",
       "      <td>19.99</td>\n",
       "    </tr>\n",
       "    <tr>\n",
       "      <th>1</th>\n",
       "      <td>Among Us</td>\n",
       "      <td>2018</td>\n",
       "      <td>Social Deduction</td>\n",
       "      <td>InnerSloth</td>\n",
       "      <td>4.99</td>\n",
       "    </tr>\n",
       "    <tr>\n",
       "      <th>2</th>\n",
       "      <td>Minecraft</td>\n",
       "      <td>2011</td>\n",
       "      <td>Sandbox</td>\n",
       "      <td>Mojang</td>\n",
       "      <td>26.95</td>\n",
       "    </tr>\n",
       "    <tr>\n",
       "      <th>3</th>\n",
       "      <td>Fortnite</td>\n",
       "      <td>2017</td>\n",
       "      <td>Battle Royale</td>\n",
       "      <td>Epic Games</td>\n",
       "      <td>0.00</td>\n",
       "    </tr>\n",
       "    <tr>\n",
       "      <th>4</th>\n",
       "      <td>Genshin Impact</td>\n",
       "      <td>2020</td>\n",
       "      <td>Action RPG</td>\n",
       "      <td>miHoYo</td>\n",
       "      <td>0.00</td>\n",
       "    </tr>\n",
       "  </tbody>\n",
       "</table>\n",
       "</div>"
      ],
      "text/plain": [
       "             Name  Year             Genre         Developer  Price\n",
       "0         Valheim  2021          Survival  Iron Gate Studio  19.99\n",
       "1        Among Us  2018  Social Deduction        InnerSloth   4.99\n",
       "2       Minecraft  2011           Sandbox            Mojang  26.95\n",
       "3        Fortnite  2017     Battle Royale        Epic Games   0.00\n",
       "4  Genshin Impact  2020        Action RPG            miHoYo   0.00"
      ]
     },
     "execution_count": 45,
     "metadata": {},
     "output_type": "execute_result"
    }
   ],
   "source": [
    "df = pd.DataFrame(data)\n",
    "df"
   ]
  },
  {
   "cell_type": "code",
   "execution_count": 46,
   "id": "8f7c1130",
   "metadata": {},
   "outputs": [],
   "source": [
    "data = [['Valheim', 2021, 'Survival', 'Iron Gate Studio', 19.99],\n",
    "        ['Among Us', 2018, 'Social Deduction', 'InnerSloth', 4.99],\n",
    "        ['Minecraft', 2011, 'Sandbox', 'Mojang', 26.95],\n",
    "        ['Fortnite', 2017, 'Battle Royale', 'Epic Games', 0.00],\n",
    "        ['Genshin Impact', 2020, 'Action RPG', 'miHoYo', 0.00]]"
   ]
  },
  {
   "cell_type": "code",
   "execution_count": 47,
   "id": "aa3390af",
   "metadata": {},
   "outputs": [],
   "source": [
    "df = pd.DataFrame(data, columns=['Name', 'Year', 'Genre', 'Developer', 'Price'])\n"
   ]
  },
  {
   "cell_type": "code",
   "execution_count": 48,
   "id": "1fe8d9e0",
   "metadata": {},
   "outputs": [
    {
     "data": {
      "text/html": [
       "<div>\n",
       "<style scoped>\n",
       "    .dataframe tbody tr th:only-of-type {\n",
       "        vertical-align: middle;\n",
       "    }\n",
       "\n",
       "    .dataframe tbody tr th {\n",
       "        vertical-align: top;\n",
       "    }\n",
       "\n",
       "    .dataframe thead th {\n",
       "        text-align: right;\n",
       "    }\n",
       "</style>\n",
       "<table border=\"1\" class=\"dataframe\">\n",
       "  <thead>\n",
       "    <tr style=\"text-align: right;\">\n",
       "      <th></th>\n",
       "      <th>Name</th>\n",
       "      <th>Year</th>\n",
       "      <th>Genre</th>\n",
       "      <th>Developer</th>\n",
       "      <th>Price</th>\n",
       "    </tr>\n",
       "  </thead>\n",
       "  <tbody>\n",
       "    <tr>\n",
       "      <th>0</th>\n",
       "      <td>Valheim</td>\n",
       "      <td>2021</td>\n",
       "      <td>Survival</td>\n",
       "      <td>Iron Gate Studio</td>\n",
       "      <td>19.99</td>\n",
       "    </tr>\n",
       "    <tr>\n",
       "      <th>1</th>\n",
       "      <td>Among Us</td>\n",
       "      <td>2018</td>\n",
       "      <td>Social Deduction</td>\n",
       "      <td>InnerSloth</td>\n",
       "      <td>4.99</td>\n",
       "    </tr>\n",
       "    <tr>\n",
       "      <th>2</th>\n",
       "      <td>Minecraft</td>\n",
       "      <td>2011</td>\n",
       "      <td>Sandbox</td>\n",
       "      <td>Mojang</td>\n",
       "      <td>26.95</td>\n",
       "    </tr>\n",
       "  </tbody>\n",
       "</table>\n",
       "</div>"
      ],
      "text/plain": [
       "        Name  Year             Genre         Developer  Price\n",
       "0    Valheim  2021          Survival  Iron Gate Studio  19.99\n",
       "1   Among Us  2018  Social Deduction        InnerSloth   4.99\n",
       "2  Minecraft  2011           Sandbox            Mojang  26.95"
      ]
     },
     "execution_count": 48,
     "metadata": {},
     "output_type": "execute_result"
    }
   ],
   "source": [
    "df.head(3)"
   ]
  },
  {
   "cell_type": "code",
   "execution_count": 49,
   "id": "befc06e8",
   "metadata": {},
   "outputs": [
    {
     "data": {
      "text/html": [
       "<div>\n",
       "<style scoped>\n",
       "    .dataframe tbody tr th:only-of-type {\n",
       "        vertical-align: middle;\n",
       "    }\n",
       "\n",
       "    .dataframe tbody tr th {\n",
       "        vertical-align: top;\n",
       "    }\n",
       "\n",
       "    .dataframe thead th {\n",
       "        text-align: right;\n",
       "    }\n",
       "</style>\n",
       "<table border=\"1\" class=\"dataframe\">\n",
       "  <thead>\n",
       "    <tr style=\"text-align: right;\">\n",
       "      <th></th>\n",
       "      <th>Name</th>\n",
       "      <th>Year</th>\n",
       "      <th>Genre</th>\n",
       "      <th>Developer</th>\n",
       "      <th>Price</th>\n",
       "    </tr>\n",
       "  </thead>\n",
       "  <tbody>\n",
       "    <tr>\n",
       "      <th>1</th>\n",
       "      <td>Among Us</td>\n",
       "      <td>2018</td>\n",
       "      <td>Social Deduction</td>\n",
       "      <td>InnerSloth</td>\n",
       "      <td>4.99</td>\n",
       "    </tr>\n",
       "    <tr>\n",
       "      <th>3</th>\n",
       "      <td>Fortnite</td>\n",
       "      <td>2017</td>\n",
       "      <td>Battle Royale</td>\n",
       "      <td>Epic Games</td>\n",
       "      <td>0.00</td>\n",
       "    </tr>\n",
       "  </tbody>\n",
       "</table>\n",
       "</div>"
      ],
      "text/plain": [
       "       Name  Year             Genre   Developer  Price\n",
       "1  Among Us  2018  Social Deduction  InnerSloth   4.99\n",
       "3  Fortnite  2017     Battle Royale  Epic Games   0.00"
      ]
     },
     "execution_count": 49,
     "metadata": {},
     "output_type": "execute_result"
    }
   ],
   "source": [
    "df.sample(2)"
   ]
  },
  {
   "cell_type": "code",
   "execution_count": 50,
   "id": "e3303bbd",
   "metadata": {},
   "outputs": [
    {
     "data": {
      "text/plain": [
       "Index(['Name', 'Year', 'Genre', 'Developer', 'Price'], dtype='object')"
      ]
     },
     "execution_count": 50,
     "metadata": {},
     "output_type": "execute_result"
    }
   ],
   "source": [
    "df.columns"
   ]
  },
  {
   "cell_type": "code",
   "execution_count": 51,
   "id": "a07a68a0",
   "metadata": {},
   "outputs": [
    {
     "data": {
      "text/plain": [
       "['Name', 'Year', 'Genre', 'Developer', 'Price']"
      ]
     },
     "execution_count": 51,
     "metadata": {},
     "output_type": "execute_result"
    }
   ],
   "source": [
    "df.columns.tolist()"
   ]
  },
  {
   "cell_type": "code",
   "execution_count": 52,
   "id": "d191ee13",
   "metadata": {},
   "outputs": [],
   "source": [
    "df.rename(columns={'Name': 'Game', 'Year': 'Release Year', 'Genre': 'Game Genre', 'Developer': 'Game Developer', 'Price': 'Game Price'}, inplace=True)"
   ]
  },
  {
   "cell_type": "code",
   "execution_count": 53,
   "id": "9c31c0cb",
   "metadata": {},
   "outputs": [
    {
     "data": {
      "text/plain": [
       "Game               object\n",
       "Release Year        int64\n",
       "Game Genre         object\n",
       "Game Developer     object\n",
       "Game Price        float64\n",
       "dtype: object"
      ]
     },
     "execution_count": 53,
     "metadata": {},
     "output_type": "execute_result"
    }
   ],
   "source": [
    "df.dtypes\n"
   ]
  },
  {
   "cell_type": "code",
   "execution_count": 54,
   "id": "2a584159",
   "metadata": {},
   "outputs": [
    {
     "data": {
      "text/plain": [
       "0           Valheim\n",
       "1          Among Us\n",
       "2         Minecraft\n",
       "3          Fortnite\n",
       "4    Genshin Impact\n",
       "Name: Game, dtype: object"
      ]
     },
     "execution_count": 54,
     "metadata": {},
     "output_type": "execute_result"
    }
   ],
   "source": [
    "df['Game']\n",
    "df.Game"
   ]
  },
  {
   "cell_type": "code",
   "execution_count": 55,
   "id": "48290a08",
   "metadata": {},
   "outputs": [
    {
     "data": {
      "text/html": [
       "<div>\n",
       "<style scoped>\n",
       "    .dataframe tbody tr th:only-of-type {\n",
       "        vertical-align: middle;\n",
       "    }\n",
       "\n",
       "    .dataframe tbody tr th {\n",
       "        vertical-align: top;\n",
       "    }\n",
       "\n",
       "    .dataframe thead th {\n",
       "        text-align: right;\n",
       "    }\n",
       "</style>\n",
       "<table border=\"1\" class=\"dataframe\">\n",
       "  <thead>\n",
       "    <tr style=\"text-align: right;\">\n",
       "      <th></th>\n",
       "      <th>Game</th>\n",
       "      <th>Game Genre</th>\n",
       "    </tr>\n",
       "  </thead>\n",
       "  <tbody>\n",
       "    <tr>\n",
       "      <th>0</th>\n",
       "      <td>Valheim</td>\n",
       "      <td>Survival</td>\n",
       "    </tr>\n",
       "    <tr>\n",
       "      <th>1</th>\n",
       "      <td>Among Us</td>\n",
       "      <td>Social Deduction</td>\n",
       "    </tr>\n",
       "    <tr>\n",
       "      <th>2</th>\n",
       "      <td>Minecraft</td>\n",
       "      <td>Sandbox</td>\n",
       "    </tr>\n",
       "    <tr>\n",
       "      <th>3</th>\n",
       "      <td>Fortnite</td>\n",
       "      <td>Battle Royale</td>\n",
       "    </tr>\n",
       "    <tr>\n",
       "      <th>4</th>\n",
       "      <td>Genshin Impact</td>\n",
       "      <td>Action RPG</td>\n",
       "    </tr>\n",
       "  </tbody>\n",
       "</table>\n",
       "</div>"
      ],
      "text/plain": [
       "             Game        Game Genre\n",
       "0         Valheim          Survival\n",
       "1        Among Us  Social Deduction\n",
       "2       Minecraft           Sandbox\n",
       "3        Fortnite     Battle Royale\n",
       "4  Genshin Impact        Action RPG"
      ]
     },
     "execution_count": 55,
     "metadata": {},
     "output_type": "execute_result"
    }
   ],
   "source": [
    "df[['Game', 'Game Genre']]\n"
   ]
  },
  {
   "cell_type": "code",
   "execution_count": 56,
   "id": "58ab3f23",
   "metadata": {},
   "outputs": [
    {
     "data": {
      "text/plain": [
       "RangeIndex(start=0, stop=5, step=1)"
      ]
     },
     "execution_count": 56,
     "metadata": {},
     "output_type": "execute_result"
    }
   ],
   "source": [
    "df.index"
   ]
  },
  {
   "cell_type": "code",
   "execution_count": 57,
   "id": "aa44461c",
   "metadata": {},
   "outputs": [],
   "source": [
    "df.set_index('Game', inplace=True)"
   ]
  },
  {
   "cell_type": "code",
   "execution_count": 58,
   "id": "69b92c74",
   "metadata": {},
   "outputs": [
    {
     "data": {
      "text/html": [
       "<div>\n",
       "<style scoped>\n",
       "    .dataframe tbody tr th:only-of-type {\n",
       "        vertical-align: middle;\n",
       "    }\n",
       "\n",
       "    .dataframe tbody tr th {\n",
       "        vertical-align: top;\n",
       "    }\n",
       "\n",
       "    .dataframe thead th {\n",
       "        text-align: right;\n",
       "    }\n",
       "</style>\n",
       "<table border=\"1\" class=\"dataframe\">\n",
       "  <thead>\n",
       "    <tr style=\"text-align: right;\">\n",
       "      <th></th>\n",
       "      <th>Release Year</th>\n",
       "      <th>Game Genre</th>\n",
       "      <th>Game Developer</th>\n",
       "      <th>Game Price</th>\n",
       "    </tr>\n",
       "    <tr>\n",
       "      <th>Game</th>\n",
       "      <th></th>\n",
       "      <th></th>\n",
       "      <th></th>\n",
       "      <th></th>\n",
       "    </tr>\n",
       "  </thead>\n",
       "  <tbody>\n",
       "    <tr>\n",
       "      <th>Valheim</th>\n",
       "      <td>2021</td>\n",
       "      <td>Survival</td>\n",
       "      <td>Iron Gate Studio</td>\n",
       "      <td>19.99</td>\n",
       "    </tr>\n",
       "    <tr>\n",
       "      <th>Among Us</th>\n",
       "      <td>2018</td>\n",
       "      <td>Social Deduction</td>\n",
       "      <td>InnerSloth</td>\n",
       "      <td>4.99</td>\n",
       "    </tr>\n",
       "    <tr>\n",
       "      <th>Minecraft</th>\n",
       "      <td>2011</td>\n",
       "      <td>Sandbox</td>\n",
       "      <td>Mojang</td>\n",
       "      <td>26.95</td>\n",
       "    </tr>\n",
       "    <tr>\n",
       "      <th>Fortnite</th>\n",
       "      <td>2017</td>\n",
       "      <td>Battle Royale</td>\n",
       "      <td>Epic Games</td>\n",
       "      <td>0.00</td>\n",
       "    </tr>\n",
       "    <tr>\n",
       "      <th>Genshin Impact</th>\n",
       "      <td>2020</td>\n",
       "      <td>Action RPG</td>\n",
       "      <td>miHoYo</td>\n",
       "      <td>0.00</td>\n",
       "    </tr>\n",
       "  </tbody>\n",
       "</table>\n",
       "</div>"
      ],
      "text/plain": [
       "                Release Year        Game Genre    Game Developer  Game Price\n",
       "Game                                                                        \n",
       "Valheim                 2021          Survival  Iron Gate Studio       19.99\n",
       "Among Us                2018  Social Deduction        InnerSloth        4.99\n",
       "Minecraft               2011           Sandbox            Mojang       26.95\n",
       "Fortnite                2017     Battle Royale        Epic Games        0.00\n",
       "Genshin Impact          2020        Action RPG            miHoYo        0.00"
      ]
     },
     "execution_count": 58,
     "metadata": {},
     "output_type": "execute_result"
    }
   ],
   "source": [
    "df"
   ]
  },
  {
   "cell_type": "code",
   "execution_count": 59,
   "id": "e824a0f8",
   "metadata": {},
   "outputs": [
    {
     "data": {
      "text/html": [
       "<div>\n",
       "<style scoped>\n",
       "    .dataframe tbody tr th:only-of-type {\n",
       "        vertical-align: middle;\n",
       "    }\n",
       "\n",
       "    .dataframe tbody tr th {\n",
       "        vertical-align: top;\n",
       "    }\n",
       "\n",
       "    .dataframe thead th {\n",
       "        text-align: right;\n",
       "    }\n",
       "</style>\n",
       "<table border=\"1\" class=\"dataframe\">\n",
       "  <thead>\n",
       "    <tr style=\"text-align: right;\">\n",
       "      <th></th>\n",
       "      <th>Game</th>\n",
       "      <th>Release Year</th>\n",
       "      <th>Game Genre</th>\n",
       "      <th>Game Developer</th>\n",
       "      <th>Game Price</th>\n",
       "    </tr>\n",
       "  </thead>\n",
       "  <tbody>\n",
       "    <tr>\n",
       "      <th>0</th>\n",
       "      <td>Valheim</td>\n",
       "      <td>2021</td>\n",
       "      <td>Survival</td>\n",
       "      <td>Iron Gate Studio</td>\n",
       "      <td>19.99</td>\n",
       "    </tr>\n",
       "    <tr>\n",
       "      <th>1</th>\n",
       "      <td>Among Us</td>\n",
       "      <td>2018</td>\n",
       "      <td>Social Deduction</td>\n",
       "      <td>InnerSloth</td>\n",
       "      <td>4.99</td>\n",
       "    </tr>\n",
       "    <tr>\n",
       "      <th>2</th>\n",
       "      <td>Minecraft</td>\n",
       "      <td>2011</td>\n",
       "      <td>Sandbox</td>\n",
       "      <td>Mojang</td>\n",
       "      <td>26.95</td>\n",
       "    </tr>\n",
       "    <tr>\n",
       "      <th>3</th>\n",
       "      <td>Fortnite</td>\n",
       "      <td>2017</td>\n",
       "      <td>Battle Royale</td>\n",
       "      <td>Epic Games</td>\n",
       "      <td>0.00</td>\n",
       "    </tr>\n",
       "    <tr>\n",
       "      <th>4</th>\n",
       "      <td>Genshin Impact</td>\n",
       "      <td>2020</td>\n",
       "      <td>Action RPG</td>\n",
       "      <td>miHoYo</td>\n",
       "      <td>0.00</td>\n",
       "    </tr>\n",
       "  </tbody>\n",
       "</table>\n",
       "</div>"
      ],
      "text/plain": [
       "             Game  Release Year        Game Genre    Game Developer  \\\n",
       "0         Valheim          2021          Survival  Iron Gate Studio   \n",
       "1        Among Us          2018  Social Deduction        InnerSloth   \n",
       "2       Minecraft          2011           Sandbox            Mojang   \n",
       "3        Fortnite          2017     Battle Royale        Epic Games   \n",
       "4  Genshin Impact          2020        Action RPG            miHoYo   \n",
       "\n",
       "   Game Price  \n",
       "0       19.99  \n",
       "1        4.99  \n",
       "2       26.95  \n",
       "3        0.00  \n",
       "4        0.00  "
      ]
     },
     "execution_count": 59,
     "metadata": {},
     "output_type": "execute_result"
    }
   ],
   "source": [
    "df.reset_index(drop=False, inplace=True)\n",
    "df"
   ]
  },
  {
   "cell_type": "code",
   "execution_count": 60,
   "id": "d127f0fa",
   "metadata": {},
   "outputs": [],
   "source": [
    "df1 = pd.DataFrame([[1, 2], [4, 5], [7, 8]], index=[1, 2, 3], columns=['col1', 'col2'])"
   ]
  },
  {
   "cell_type": "code",
   "execution_count": 61,
   "id": "68050c60",
   "metadata": {},
   "outputs": [
    {
     "data": {
      "text/html": [
       "<div>\n",
       "<style scoped>\n",
       "    .dataframe tbody tr th:only-of-type {\n",
       "        vertical-align: middle;\n",
       "    }\n",
       "\n",
       "    .dataframe tbody tr th {\n",
       "        vertical-align: top;\n",
       "    }\n",
       "\n",
       "    .dataframe thead th {\n",
       "        text-align: right;\n",
       "    }\n",
       "</style>\n",
       "<table border=\"1\" class=\"dataframe\">\n",
       "  <thead>\n",
       "    <tr style=\"text-align: right;\">\n",
       "      <th></th>\n",
       "      <th>col1</th>\n",
       "      <th>col2</th>\n",
       "    </tr>\n",
       "  </thead>\n",
       "  <tbody>\n",
       "    <tr>\n",
       "      <th>1</th>\n",
       "      <td>1</td>\n",
       "      <td>2</td>\n",
       "    </tr>\n",
       "    <tr>\n",
       "      <th>2</th>\n",
       "      <td>4</td>\n",
       "      <td>5</td>\n",
       "    </tr>\n",
       "    <tr>\n",
       "      <th>3</th>\n",
       "      <td>7</td>\n",
       "      <td>8</td>\n",
       "    </tr>\n",
       "  </tbody>\n",
       "</table>\n",
       "</div>"
      ],
      "text/plain": [
       "   col1  col2\n",
       "1     1     2\n",
       "2     4     5\n",
       "3     7     8"
      ]
     },
     "execution_count": 61,
     "metadata": {},
     "output_type": "execute_result"
    }
   ],
   "source": [
    "df1"
   ]
  },
  {
   "cell_type": "code",
   "execution_count": 62,
   "id": "afd1fec2",
   "metadata": {},
   "outputs": [
    {
     "data": {
      "text/plain": [
       "col1    1\n",
       "col2    2\n",
       "Name: 1, dtype: int64"
      ]
     },
     "execution_count": 62,
     "metadata": {},
     "output_type": "execute_result"
    }
   ],
   "source": [
    "df1.iloc[0]"
   ]
  },
  {
   "cell_type": "code",
   "execution_count": 63,
   "id": "3a3523bb",
   "metadata": {},
   "outputs": [
    {
     "data": {
      "text/html": [
       "<div>\n",
       "<style scoped>\n",
       "    .dataframe tbody tr th:only-of-type {\n",
       "        vertical-align: middle;\n",
       "    }\n",
       "\n",
       "    .dataframe tbody tr th {\n",
       "        vertical-align: top;\n",
       "    }\n",
       "\n",
       "    .dataframe thead th {\n",
       "        text-align: right;\n",
       "    }\n",
       "</style>\n",
       "<table border=\"1\" class=\"dataframe\">\n",
       "  <thead>\n",
       "    <tr style=\"text-align: right;\">\n",
       "      <th></th>\n",
       "      <th>col1</th>\n",
       "      <th>col2</th>\n",
       "    </tr>\n",
       "  </thead>\n",
       "  <tbody>\n",
       "    <tr>\n",
       "      <th>2</th>\n",
       "      <td>4</td>\n",
       "      <td>5</td>\n",
       "    </tr>\n",
       "  </tbody>\n",
       "</table>\n",
       "</div>"
      ],
      "text/plain": [
       "   col1  col2\n",
       "2     4     5"
      ]
     },
     "execution_count": 63,
     "metadata": {},
     "output_type": "execute_result"
    }
   ],
   "source": [
    "df1.iloc[1:2]"
   ]
  },
  {
   "cell_type": "code",
   "execution_count": 64,
   "id": "926c6e62",
   "metadata": {},
   "outputs": [
    {
     "data": {
      "text/html": [
       "<div>\n",
       "<style scoped>\n",
       "    .dataframe tbody tr th:only-of-type {\n",
       "        vertical-align: middle;\n",
       "    }\n",
       "\n",
       "    .dataframe tbody tr th {\n",
       "        vertical-align: top;\n",
       "    }\n",
       "\n",
       "    .dataframe thead th {\n",
       "        text-align: right;\n",
       "    }\n",
       "</style>\n",
       "<table border=\"1\" class=\"dataframe\">\n",
       "  <thead>\n",
       "    <tr style=\"text-align: right;\">\n",
       "      <th></th>\n",
       "      <th>col1</th>\n",
       "      <th>col2</th>\n",
       "    </tr>\n",
       "  </thead>\n",
       "  <tbody>\n",
       "    <tr>\n",
       "      <th>1</th>\n",
       "      <td>1</td>\n",
       "      <td>2</td>\n",
       "    </tr>\n",
       "    <tr>\n",
       "      <th>2</th>\n",
       "      <td>4</td>\n",
       "      <td>5</td>\n",
       "    </tr>\n",
       "  </tbody>\n",
       "</table>\n",
       "</div>"
      ],
      "text/plain": [
       "   col1  col2\n",
       "1     1     2\n",
       "2     4     5"
      ]
     },
     "execution_count": 64,
     "metadata": {},
     "output_type": "execute_result"
    }
   ],
   "source": [
    "df1.loc[1:2]"
   ]
  },
  {
   "cell_type": "code",
   "execution_count": 65,
   "id": "89eeff13",
   "metadata": {},
   "outputs": [
    {
     "data": {
      "text/plain": [
       "1"
      ]
     },
     "execution_count": 65,
     "metadata": {},
     "output_type": "execute_result"
    }
   ],
   "source": [
    "df1.iloc[0, 0]"
   ]
  },
  {
   "cell_type": "code",
   "execution_count": 66,
   "id": "b3e3b62a",
   "metadata": {},
   "outputs": [
    {
     "data": {
      "text/plain": [
       "1"
      ]
     },
     "execution_count": 66,
     "metadata": {},
     "output_type": "execute_result"
    }
   ],
   "source": [
    "df1.loc[1, 'col1']"
   ]
  },
  {
   "cell_type": "code",
   "execution_count": 67,
   "id": "ae970fa5",
   "metadata": {},
   "outputs": [],
   "source": [
    "df1.iloc[0, 0] = 10"
   ]
  },
  {
   "cell_type": "code",
   "execution_count": 68,
   "id": "d37126ed",
   "metadata": {},
   "outputs": [],
   "source": [
    "df1.loc[[2, 3], 'col2'] = 100"
   ]
  },
  {
   "cell_type": "code",
   "execution_count": 69,
   "id": "c2158041",
   "metadata": {},
   "outputs": [
    {
     "data": {
      "text/html": [
       "<div>\n",
       "<style scoped>\n",
       "    .dataframe tbody tr th:only-of-type {\n",
       "        vertical-align: middle;\n",
       "    }\n",
       "\n",
       "    .dataframe tbody tr th {\n",
       "        vertical-align: top;\n",
       "    }\n",
       "\n",
       "    .dataframe thead th {\n",
       "        text-align: right;\n",
       "    }\n",
       "</style>\n",
       "<table border=\"1\" class=\"dataframe\">\n",
       "  <thead>\n",
       "    <tr style=\"text-align: right;\">\n",
       "      <th></th>\n",
       "      <th>col1</th>\n",
       "      <th>col2</th>\n",
       "    </tr>\n",
       "  </thead>\n",
       "  <tbody>\n",
       "    <tr>\n",
       "      <th>1</th>\n",
       "      <td>10</td>\n",
       "      <td>2</td>\n",
       "    </tr>\n",
       "    <tr>\n",
       "      <th>2</th>\n",
       "      <td>4</td>\n",
       "      <td>200</td>\n",
       "    </tr>\n",
       "    <tr>\n",
       "      <th>3</th>\n",
       "      <td>7</td>\n",
       "      <td>200</td>\n",
       "    </tr>\n",
       "  </tbody>\n",
       "</table>\n",
       "</div>"
      ],
      "text/plain": [
       "   col1  col2\n",
       "1    10     2\n",
       "2     4   200\n",
       "3     7   200"
      ]
     },
     "execution_count": 69,
     "metadata": {},
     "output_type": "execute_result"
    }
   ],
   "source": [
    "df1.replace(100, 200)"
   ]
  },
  {
   "cell_type": "code",
   "execution_count": 70,
   "id": "83295c99",
   "metadata": {},
   "outputs": [
    {
     "name": "stdout",
     "output_type": "stream",
     "text": [
      "<class 'pandas.core.frame.DataFrame'>\n",
      "RangeIndex: 5 entries, 0 to 4\n",
      "Data columns (total 5 columns):\n",
      " #   Column          Non-Null Count  Dtype  \n",
      "---  ------          --------------  -----  \n",
      " 0   Game            5 non-null      object \n",
      " 1   Release Year    5 non-null      int64  \n",
      " 2   Game Genre      5 non-null      object \n",
      " 3   Game Developer  5 non-null      object \n",
      " 4   Game Price      5 non-null      float64\n",
      "dtypes: float64(1), int64(1), object(3)\n",
      "memory usage: 332.0+ bytes\n"
     ]
    }
   ],
   "source": [
    "df.info()"
   ]
  },
  {
   "cell_type": "code",
   "execution_count": 71,
   "id": "cf04da48",
   "metadata": {},
   "outputs": [
    {
     "data": {
      "text/html": [
       "<div>\n",
       "<style scoped>\n",
       "    .dataframe tbody tr th:only-of-type {\n",
       "        vertical-align: middle;\n",
       "    }\n",
       "\n",
       "    .dataframe tbody tr th {\n",
       "        vertical-align: top;\n",
       "    }\n",
       "\n",
       "    .dataframe thead th {\n",
       "        text-align: right;\n",
       "    }\n",
       "</style>\n",
       "<table border=\"1\" class=\"dataframe\">\n",
       "  <thead>\n",
       "    <tr style=\"text-align: right;\">\n",
       "      <th></th>\n",
       "      <th>Release Year</th>\n",
       "      <th>Game Price</th>\n",
       "    </tr>\n",
       "  </thead>\n",
       "  <tbody>\n",
       "    <tr>\n",
       "      <th>count</th>\n",
       "      <td>5.000000</td>\n",
       "      <td>5.000000</td>\n",
       "    </tr>\n",
       "    <tr>\n",
       "      <th>mean</th>\n",
       "      <td>2017.400000</td>\n",
       "      <td>10.386000</td>\n",
       "    </tr>\n",
       "    <tr>\n",
       "      <th>std</th>\n",
       "      <td>3.911521</td>\n",
       "      <td>12.363836</td>\n",
       "    </tr>\n",
       "    <tr>\n",
       "      <th>min</th>\n",
       "      <td>2011.000000</td>\n",
       "      <td>0.000000</td>\n",
       "    </tr>\n",
       "    <tr>\n",
       "      <th>25%</th>\n",
       "      <td>2017.000000</td>\n",
       "      <td>0.000000</td>\n",
       "    </tr>\n",
       "    <tr>\n",
       "      <th>50%</th>\n",
       "      <td>2018.000000</td>\n",
       "      <td>4.990000</td>\n",
       "    </tr>\n",
       "    <tr>\n",
       "      <th>75%</th>\n",
       "      <td>2020.000000</td>\n",
       "      <td>19.990000</td>\n",
       "    </tr>\n",
       "    <tr>\n",
       "      <th>max</th>\n",
       "      <td>2021.000000</td>\n",
       "      <td>26.950000</td>\n",
       "    </tr>\n",
       "  </tbody>\n",
       "</table>\n",
       "</div>"
      ],
      "text/plain": [
       "       Release Year  Game Price\n",
       "count      5.000000    5.000000\n",
       "mean    2017.400000   10.386000\n",
       "std        3.911521   12.363836\n",
       "min     2011.000000    0.000000\n",
       "25%     2017.000000    0.000000\n",
       "50%     2018.000000    4.990000\n",
       "75%     2020.000000   19.990000\n",
       "max     2021.000000   26.950000"
      ]
     },
     "execution_count": 71,
     "metadata": {},
     "output_type": "execute_result"
    }
   ],
   "source": [
    "df.describe()"
   ]
  },
  {
   "cell_type": "code",
   "execution_count": 72,
   "id": "b4c249b0",
   "metadata": {},
   "outputs": [],
   "source": [
    "df['Game Price'] = df['Game Price'].astype('int64')"
   ]
  },
  {
   "cell_type": "code",
   "execution_count": 73,
   "id": "f6f30efb",
   "metadata": {},
   "outputs": [
    {
     "data": {
      "text/html": [
       "<div>\n",
       "<style scoped>\n",
       "    .dataframe tbody tr th:only-of-type {\n",
       "        vertical-align: middle;\n",
       "    }\n",
       "\n",
       "    .dataframe tbody tr th {\n",
       "        vertical-align: top;\n",
       "    }\n",
       "\n",
       "    .dataframe thead th {\n",
       "        text-align: right;\n",
       "    }\n",
       "</style>\n",
       "<table border=\"1\" class=\"dataframe\">\n",
       "  <thead>\n",
       "    <tr style=\"text-align: right;\">\n",
       "      <th></th>\n",
       "      <th>Game</th>\n",
       "      <th>Release Year</th>\n",
       "      <th>Game Genre</th>\n",
       "      <th>Game Developer</th>\n",
       "      <th>Game Price</th>\n",
       "    </tr>\n",
       "  </thead>\n",
       "  <tbody>\n",
       "    <tr>\n",
       "      <th>0</th>\n",
       "      <td>Valheim</td>\n",
       "      <td>2021</td>\n",
       "      <td>Survival</td>\n",
       "      <td>Iron Gate Studio</td>\n",
       "      <td>17.48</td>\n",
       "    </tr>\n",
       "    <tr>\n",
       "      <th>1</th>\n",
       "      <td>Among Us</td>\n",
       "      <td>2018</td>\n",
       "      <td>Social Deduction</td>\n",
       "      <td>InnerSloth</td>\n",
       "      <td>3.68</td>\n",
       "    </tr>\n",
       "    <tr>\n",
       "      <th>2</th>\n",
       "      <td>Minecraft</td>\n",
       "      <td>2011</td>\n",
       "      <td>Sandbox</td>\n",
       "      <td>Mojang</td>\n",
       "      <td>23.92</td>\n",
       "    </tr>\n",
       "    <tr>\n",
       "      <th>3</th>\n",
       "      <td>Fortnite</td>\n",
       "      <td>2017</td>\n",
       "      <td>Battle Royale</td>\n",
       "      <td>Epic Games</td>\n",
       "      <td>0.00</td>\n",
       "    </tr>\n",
       "    <tr>\n",
       "      <th>4</th>\n",
       "      <td>Genshin Impact</td>\n",
       "      <td>2020</td>\n",
       "      <td>Action RPG</td>\n",
       "      <td>miHoYo</td>\n",
       "      <td>0.00</td>\n",
       "    </tr>\n",
       "  </tbody>\n",
       "</table>\n",
       "</div>"
      ],
      "text/plain": [
       "             Game  Release Year        Game Genre    Game Developer  \\\n",
       "0         Valheim          2021          Survival  Iron Gate Studio   \n",
       "1        Among Us          2018  Social Deduction        InnerSloth   \n",
       "2       Minecraft          2011           Sandbox            Mojang   \n",
       "3        Fortnite          2017     Battle Royale        Epic Games   \n",
       "4  Genshin Impact          2020        Action RPG            miHoYo   \n",
       "\n",
       "   Game Price  \n",
       "0       17.48  \n",
       "1        3.68  \n",
       "2       23.92  \n",
       "3        0.00  \n",
       "4        0.00  "
      ]
     },
     "execution_count": 73,
     "metadata": {},
     "output_type": "execute_result"
    }
   ],
   "source": [
    "def dollar_to_euro(price):\n",
    "    return price * 0.92\n",
    "df['Game Price'] = df['Game Price'].apply(dollar_to_euro)\n",
    "df"
   ]
  },
  {
   "cell_type": "code",
   "execution_count": 74,
   "id": "c0ce6f94",
   "metadata": {},
   "outputs": [
    {
     "data": {
      "text/plain": [
       "0    3\n",
       "1    4\n",
       "2    2\n",
       "3    1\n",
       "4    0\n",
       "Name: Game Genre, dtype: int64"
      ]
     },
     "execution_count": 74,
     "metadata": {},
     "output_type": "execute_result"
    }
   ],
   "source": [
    "df['Game Genre'].map({'Action RPG': 0, 'Battle Royale': 1, 'Sandbox': 2, 'Survival': 3, 'Social Deduction': 4})"
   ]
  },
  {
   "cell_type": "code",
   "execution_count": 75,
   "id": "8f649c3a",
   "metadata": {},
   "outputs": [
    {
     "data": {
      "text/html": [
       "<div>\n",
       "<style scoped>\n",
       "    .dataframe tbody tr th:only-of-type {\n",
       "        vertical-align: middle;\n",
       "    }\n",
       "\n",
       "    .dataframe tbody tr th {\n",
       "        vertical-align: top;\n",
       "    }\n",
       "\n",
       "    .dataframe thead th {\n",
       "        text-align: right;\n",
       "    }\n",
       "</style>\n",
       "<table border=\"1\" class=\"dataframe\">\n",
       "  <thead>\n",
       "    <tr style=\"text-align: right;\">\n",
       "      <th></th>\n",
       "      <th>Game</th>\n",
       "      <th>Release Year</th>\n",
       "      <th>Game Genre</th>\n",
       "      <th>Game Developer</th>\n",
       "      <th>Game Price</th>\n",
       "    </tr>\n",
       "  </thead>\n",
       "  <tbody>\n",
       "    <tr>\n",
       "      <th>2</th>\n",
       "      <td>Minecraft</td>\n",
       "      <td>2011</td>\n",
       "      <td>Sandbox</td>\n",
       "      <td>Mojang</td>\n",
       "      <td>23.92</td>\n",
       "    </tr>\n",
       "    <tr>\n",
       "      <th>0</th>\n",
       "      <td>Valheim</td>\n",
       "      <td>2021</td>\n",
       "      <td>Survival</td>\n",
       "      <td>Iron Gate Studio</td>\n",
       "      <td>17.48</td>\n",
       "    </tr>\n",
       "    <tr>\n",
       "      <th>1</th>\n",
       "      <td>Among Us</td>\n",
       "      <td>2018</td>\n",
       "      <td>Social Deduction</td>\n",
       "      <td>InnerSloth</td>\n",
       "      <td>3.68</td>\n",
       "    </tr>\n",
       "    <tr>\n",
       "      <th>3</th>\n",
       "      <td>Fortnite</td>\n",
       "      <td>2017</td>\n",
       "      <td>Battle Royale</td>\n",
       "      <td>Epic Games</td>\n",
       "      <td>0.00</td>\n",
       "    </tr>\n",
       "    <tr>\n",
       "      <th>4</th>\n",
       "      <td>Genshin Impact</td>\n",
       "      <td>2020</td>\n",
       "      <td>Action RPG</td>\n",
       "      <td>miHoYo</td>\n",
       "      <td>0.00</td>\n",
       "    </tr>\n",
       "  </tbody>\n",
       "</table>\n",
       "</div>"
      ],
      "text/plain": [
       "             Game  Release Year        Game Genre    Game Developer  \\\n",
       "2       Minecraft          2011           Sandbox            Mojang   \n",
       "0         Valheim          2021          Survival  Iron Gate Studio   \n",
       "1        Among Us          2018  Social Deduction        InnerSloth   \n",
       "3        Fortnite          2017     Battle Royale        Epic Games   \n",
       "4  Genshin Impact          2020        Action RPG            miHoYo   \n",
       "\n",
       "   Game Price  \n",
       "2       23.92  \n",
       "0       17.48  \n",
       "1        3.68  \n",
       "3        0.00  \n",
       "4        0.00  "
      ]
     },
     "execution_count": 75,
     "metadata": {},
     "output_type": "execute_result"
    }
   ],
   "source": [
    "df.sort_values(by='Game Price', ascending=False)"
   ]
  },
  {
   "cell_type": "code",
   "execution_count": null,
   "id": "26bfcacd",
   "metadata": {},
   "outputs": [],
   "source": []
  }
 ],
 "metadata": {
  "kernelspec": {
   "display_name": "Python 3 (ipykernel)",
   "language": "python",
   "name": "python3"
  },
  "language_info": {
   "codemirror_mode": {
    "name": "ipython",
    "version": 3
   },
   "file_extension": ".py",
   "mimetype": "text/x-python",
   "name": "python",
   "nbconvert_exporter": "python",
   "pygments_lexer": "ipython3",
   "version": "3.11.3"
  }
 },
 "nbformat": 4,
 "nbformat_minor": 5
}
