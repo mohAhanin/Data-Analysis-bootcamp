{
 "cells": [
  {
   "cell_type": "markdown",
   "id": "cea80cf0",
   "metadata": {},
   "source": [
    "#  Creating a numpy array"
   ]
  },
  {
   "cell_type": "code",
   "execution_count": 1,
   "id": "65343453",
   "metadata": {},
   "outputs": [],
   "source": [
    "import numpy as np"
   ]
  },
  {
   "cell_type": "code",
   "execution_count": 2,
   "id": "1d97b51a",
   "metadata": {},
   "outputs": [],
   "source": [
    "data = [1, 2.5, 3.1, 4, 5.6]"
   ]
  },
  {
   "cell_type": "code",
   "execution_count": 3,
   "id": "b3dd26fe",
   "metadata": {},
   "outputs": [],
   "source": [
    "arr = np.array(data)"
   ]
  },
  {
   "cell_type": "code",
   "execution_count": 4,
   "id": "d7feba06",
   "metadata": {},
   "outputs": [],
   "source": [
    "arr"
   ]
  },
  {
   "cell_type": "code",
   "execution_count": 5,
   "id": "a0b5469b",
   "metadata": {},
   "outputs": [],
   "source": [
    "data = [[1, 2, 3, 4], [5, 6, 7, 8]]"
   ]
  },
  {
   "cell_type": "code",
   "execution_count": 6,
   "id": "e076e8b2",
   "metadata": {},
   "outputs": [],
   "source": [
    "arr = np.array(data)"
   ]
  },
  {
   "cell_type": "code",
   "execution_count": 7,
   "id": "6e0f0d86",
   "metadata": {},
   "outputs": [],
   "source": [
    "arr"
   ]
  },
  {
   "cell_type": "markdown",
   "id": "c3c2d0f5",
   "metadata": {},
   "source": [
    "# NUMBER OF DIMENSIONS"
   ]
  },
  {
   "cell_type": "code",
   "execution_count": 8,
   "id": "f771e7ec",
   "metadata": {},
   "outputs": [],
   "source": [
    "arr"
   ]
  },
  {
   "cell_type": "code",
   "execution_count": 9,
   "id": "747016c8",
   "metadata": {},
   "outputs": [],
   "source": [
    "arr.ndim"
   ]
  },
  {
   "cell_type": "markdown",
   "id": "fac7a30f",
   "metadata": {},
   "source": [
    "# SHAPE OF AN ARRAY"
   ]
  },
  {
   "cell_type": "code",
   "execution_count": 10,
   "id": "4ee443bb",
   "metadata": {},
   "outputs": [],
   "source": [
    "arr"
   ]
  },
  {
   "cell_type": "code",
   "execution_count": 11,
   "id": "dfde01ce",
   "metadata": {},
   "outputs": [],
   "source": [
    "arr.shape"
   ]
  },
  {
   "cell_type": "markdown",
   "id": "16a731e3",
   "metadata": {},
   "source": [
    "# SIZE OF AN ARRAY"
   ]
  },
  {
   "cell_type": "code",
   "execution_count": 12,
   "id": "5d0dd176",
   "metadata": {},
   "outputs": [],
   "source": [
    "arr"
   ]
  },
  {
   "cell_type": "code",
   "execution_count": 13,
   "id": "08155588",
   "metadata": {},
   "outputs": [],
   "source": [
    "arr.size"
   ]
  },
  {
   "cell_type": "markdown",
   "id": "7e7e8860",
   "metadata": {},
   "source": [
    "# RESHAPING AN ARRAY\n"
   ]
  },
  {
   "cell_type": "code",
   "execution_count": 14,
   "id": "0fac8225",
   "metadata": {},
   "outputs": [],
   "source": [
    "arr"
   ]
  },
  {
   "cell_type": "code",
   "execution_count": 15,
   "id": "3f1c7b7b",
   "metadata": {},
   "outputs": [],
   "source": [
    "arr.reshape((4,2))"
   ]
  },
  {
   "cell_type": "code",
   "execution_count": 16,
   "id": "151e6067",
   "metadata": {},
   "outputs": [],
   "source": [
    "arr.reshape((8,1))"
   ]
  },
  {
   "cell_type": "markdown",
   "id": "1a9d5c36",
   "metadata": {},
   "source": [
    "# FLATTENING AN ARRAY\n"
   ]
  },
  {
   "cell_type": "code",
   "execution_count": 17,
   "id": "530a1981",
   "metadata": {},
   "outputs": [],
   "source": [
    "arr"
   ]
  },
  {
   "cell_type": "code",
   "execution_count": 18,
   "id": "6f9e1cc4",
   "metadata": {},
   "outputs": [],
   "source": [
    "arr.flatten()"
   ]
  },
  {
   "cell_type": "markdown",
   "id": "23708e65",
   "metadata": {},
   "source": [
    "# DATA TYPE "
   ]
  },
  {
   "cell_type": "code",
   "execution_count": 19,
   "id": "27bed25c",
   "metadata": {},
   "outputs": [],
   "source": [
    "arr"
   ]
  },
  {
   "cell_type": "code",
   "execution_count": 20,
   "id": "9042480c",
   "metadata": {},
   "outputs": [],
   "source": [
    "arr.dtype"
   ]
  },
  {
   "cell_type": "markdown",
   "id": "882868cf",
   "metadata": {},
   "source": [
    "Boolean"
   ]
  },
  {
   "cell_type": "code",
   "execution_count": 21,
   "id": "1b2cf841",
   "metadata": {},
   "outputs": [],
   "source": [
    "array = np.array([True, False, True], dtype=bool)"
   ]
  },
  {
   "cell_type": "code",
   "execution_count": 22,
   "id": "6c46bf26",
   "metadata": {},
   "outputs": [],
   "source": [
    "array"
   ]
  },
  {
   "cell_type": "markdown",
   "id": "56cf0d69",
   "metadata": {},
   "source": [
    "String"
   ]
  },
  {
   "cell_type": "code",
   "execution_count": 23,
   "id": "c761c914",
   "metadata": {},
   "outputs": [],
   "source": [
    "array = np.array(['hello', 'world', 'numpy'], dtype=np.string_)"
   ]
  },
  {
   "cell_type": "code",
   "execution_count": 24,
   "id": "5c711791",
   "metadata": {},
   "outputs": [],
   "source": [
    "array"
   ]
  },
  {
   "cell_type": "markdown",
   "id": "f8264e8f",
   "metadata": {},
   "source": [
    "Unicode"
   ]
  },
  {
   "cell_type": "code",
   "execution_count": 25,
   "id": "bc331b42",
   "metadata": {},
   "outputs": [],
   "source": [
    "array = np.array([u'سلام',u'بله',u'خیر'], dtype=np.unicode_)"
   ]
  },
  {
   "cell_type": "code",
   "execution_count": 26,
   "id": "7abd2152",
   "metadata": {},
   "outputs": [],
   "source": [
    "array"
   ]
  },
  {
   "cell_type": "markdown",
   "id": "6cd262b3",
   "metadata": {},
   "source": [
    "Object"
   ]
  },
  {
   "cell_type": "code",
   "execution_count": 27,
   "id": "a7268214",
   "metadata": {},
   "outputs": [],
   "source": [
    "array = np.array([{\"name\": \"John\", \"age\": 25}, [1, 2, 3], \"hello\"], dtype=object)"
   ]
  },
  {
   "cell_type": "code",
   "execution_count": 28,
   "id": "c9e0011b",
   "metadata": {},
   "outputs": [],
   "source": [
    "array"
   ]
  },
  {
   "cell_type": "markdown",
   "id": "4ab1d25f",
   "metadata": {},
   "source": [
    "# CASTING DATA TYPE"
   ]
  },
  {
   "cell_type": "code",
   "execution_count": 29,
   "id": "267619bd",
   "metadata": {},
   "outputs": [],
   "source": [
    "array = np.array([1, 2, 3, 4, 5])"
   ]
  },
  {
   "cell_type": "code",
   "execution_count": 30,
   "id": "59dce039",
   "metadata": {},
   "outputs": [],
   "source": [
    "array"
   ]
  },
  {
   "cell_type": "code",
   "execution_count": 31,
   "id": "9ccc49b1",
   "metadata": {},
   "outputs": [],
   "source": [
    "array.astype(np.float64)"
   ]
  },
  {
   "cell_type": "markdown",
   "id": "47f2dab6",
   "metadata": {},
   "source": [
    "# ARRAY CREATION FUNCTIONS"
   ]
  },
  {
   "cell_type": "code",
   "execution_count": 32,
   "id": "8a487bee",
   "metadata": {},
   "outputs": [],
   "source": [
    "np.zeros(10)"
   ]
  },
  {
   "cell_type": "code",
   "execution_count": 33,
   "id": "f495fef0",
   "metadata": {},
   "outputs": [],
   "source": [
    "np.ones((2,6))"
   ]
  },
  {
   "cell_type": "code",
   "execution_count": 34,
   "id": "5a75fd6a",
   "metadata": {},
   "outputs": [],
   "source": [
    "np.empty((1,2))"
   ]
  },
  {
   "cell_type": "code",
   "execution_count": 35,
   "id": "4a7d2313",
   "metadata": {},
   "outputs": [],
   "source": [
    "array = np.array([[1, 2, 3], [4, 5, 6]])"
   ]
  },
  {
   "cell_type": "code",
   "execution_count": 36,
   "id": "1610b065",
   "metadata": {},
   "outputs": [],
   "source": [
    "array"
   ]
  },
  {
   "cell_type": "code",
   "execution_count": 37,
   "id": "a3118c8b",
   "metadata": {},
   "outputs": [],
   "source": [
    "np.zeros_like(array)"
   ]
  },
  {
   "cell_type": "code",
   "execution_count": 38,
   "id": "d4891884",
   "metadata": {},
   "outputs": [],
   "source": [
    "np.ones_like(array)"
   ]
  },
  {
   "cell_type": "code",
   "execution_count": 39,
   "id": "02a6b70b",
   "metadata": {},
   "outputs": [],
   "source": [
    "np.full((2,2),5)"
   ]
  },
  {
   "cell_type": "code",
   "execution_count": 40,
   "id": "f20718f1",
   "metadata": {},
   "outputs": [],
   "source": [
    "np.full((2, 2), np.pi)"
   ]
  },
  {
   "cell_type": "code",
   "execution_count": 41,
   "id": "4b7b254b",
   "metadata": {},
   "outputs": [],
   "source": [
    "np.arange(10)"
   ]
  },
  {
   "cell_type": "code",
   "execution_count": 42,
   "id": "629172c8",
   "metadata": {},
   "outputs": [],
   "source": [
    "np.arange(1,10,2)"
   ]
  },
  {
   "cell_type": "code",
   "execution_count": 43,
   "id": "d462231c",
   "metadata": {},
   "outputs": [],
   "source": [
    "np.linspace(0,10,5)"
   ]
  },
  {
   "cell_type": "code",
   "execution_count": 44,
   "id": "18cbc493",
   "metadata": {},
   "outputs": [],
   "source": [
    "np.linspace(0,10,5,endpoint=False)"
   ]
  },
  {
   "cell_type": "code",
   "execution_count": 45,
   "id": "b1325122",
   "metadata": {},
   "outputs": [],
   "source": [
    "np.eye(2)"
   ]
  },
  {
   "cell_type": "code",
   "execution_count": 46,
   "id": "0c9760a9",
   "metadata": {},
   "outputs": [],
   "source": [
    "np.identity(3)"
   ]
  },
  {
   "cell_type": "code",
   "execution_count": 47,
   "id": "693937a8",
   "metadata": {},
   "outputs": [],
   "source": [
    "np.random.rand(2, 3)"
   ]
  },
  {
   "cell_type": "markdown",
   "id": "0b59c81b",
   "metadata": {},
   "source": [
    "# NAN AND INFINITY\n"
   ]
  },
  {
   "cell_type": "code",
   "execution_count": 48,
   "id": "cfa89d63",
   "metadata": {},
   "outputs": [],
   "source": [
    "array = np.array([1, 2, np.nan, 3, 4, np.inf])"
   ]
  },
  {
   "cell_type": "code",
   "execution_count": 49,
   "id": "1cd70c4e",
   "metadata": {},
   "outputs": [],
   "source": [
    "array"
   ]
  },
  {
   "cell_type": "code",
   "execution_count": 50,
   "id": "d9fb336a",
   "metadata": {},
   "outputs": [],
   "source": [
    "np.isnan(array)"
   ]
  },
  {
   "cell_type": "code",
   "execution_count": 51,
   "id": "e2c3b799",
   "metadata": {},
   "outputs": [],
   "source": [
    "np.isinf(array)"
   ]
  },
  {
   "cell_type": "code",
   "execution_count": null,
   "id": "8dda7504",
   "metadata": {},
   "outputs": [],
   "source": []
  }
 ],
 "metadata": {
  "kernelspec": {
   "display_name": "Python 3 (ipykernel)",
   "language": "python",
   "name": "python3"
  },
  "language_info": {
   "codemirror_mode": {
    "name": "ipython",
    "version": 3
   },
   "file_extension": ".py",
   "mimetype": "text/x-python",
   "name": "python",
   "nbconvert_exporter": "python",
   "pygments_lexer": "ipython3",
   "version": "3.11.3"
  }
 },
 "nbformat": 4,
 "nbformat_minor": 5
}
